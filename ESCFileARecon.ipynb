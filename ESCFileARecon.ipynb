{
 "cells": [
  {
   "cell_type": "markdown",
   "metadata": {},
   "source": [
    "# ESC File A Q1 FY2019 Reconciliation"
   ]
  },
  {
   "cell_type": "markdown",
   "metadata": {},
   "source": [
    "## This file will display any differences between ESC File A submission and how it is displayed on USASpending"
   ]
  },
  {
   "cell_type": "code",
   "execution_count": 1,
   "metadata": {},
   "outputs": [
    {
     "name": "stderr",
     "output_type": "stream",
     "text": [
      "Loading required package: lattice\n",
      "Loading required package: ggplot2\n",
      "Loading required package: xml2\n",
      "Loading required package: gsubfn\n",
      "Loading required package: proto\n",
      "Loading required package: RSQLite\n"
     ]
    }
   ],
   "source": [
    "# Load required packages\n",
    "library(stringr)\n",
    "library(caret)\n",
    "library(ggplot2)\n",
    "library(rvest)\n",
    "library(Rcrawler)\n",
    "library(jsonlite)\n",
    "library(tidyr)\n",
    "library(readxl)\n",
    "library(sqldf)"
   ]
  },
  {
   "cell_type": "markdown",
   "metadata": {},
   "source": [
    "### Read in both ESC File Submission and USA Spending File A"
   ]
  },
  {
   "cell_type": "code",
   "execution_count": 2,
   "metadata": {},
   "outputs": [],
   "source": [
    "# Read in ESC File A Submission and USASpending File A\n",
    "escFileA <- read.csv(\"C:/Users/jared.mcculloch/Desktop/DoT/ESC File Submission/ESCFileAQ12019.csv\", stringsAsFactors = FALSE)\n",
    "USAFileA <- read.csv(\"C:/Users/jared.mcculloch/Desktop/DoT/ESC File Submission/USASpendingFileAQ12019.csv\", stringsAsFactors = FALSE)"
   ]
  },
  {
   "cell_type": "markdown",
   "metadata": {},
   "source": [
    "### Because the TAS is fragmented into seven different variables, and is the only means of identifying a record, we will create a single variable containing TAS"
   ]
  },
  {
   "cell_type": "code",
   "execution_count": 3,
   "metadata": {},
   "outputs": [],
   "source": [
    "# TAS Creation\n",
    "escTAS <- do.call(paste,escFileA[,1:7])\n",
    "USATAS <- do.call(paste,USAFileA[,1:7])"
   ]
  },
  {
   "cell_type": "markdown",
   "metadata": {},
   "source": [
    "### Complete Data Preprocessing"
   ]
  },
  {
   "cell_type": "code",
   "execution_count": 4,
   "metadata": {},
   "outputs": [],
   "source": [
    "# Remove individual elements composing TAS\n",
    "escFileA <- escFileA[,-1:-7]\n",
    "USAFileA <- USAFileA[,-1:-7]"
   ]
  },
  {
   "cell_type": "code",
   "execution_count": 5,
   "metadata": {},
   "outputs": [],
   "source": [
    "# Join TAS to data set\n",
    "escA <- cbind(escTAS,escFileA)\n",
    "escA$escTAS <- as.character(escA$escTAS)\n",
    "\n",
    "USAA <- cbind(USATAS,USAFileA)\n",
    "USAA$USATAS <- as.character(USAA$USATAS)"
   ]
  },
  {
   "cell_type": "code",
   "execution_count": 6,
   "metadata": {},
   "outputs": [],
   "source": [
    "# Subset USASpending File to only show ESC Submission\n",
    "index <- which(USAA$USATAS %in% escA$escTAS)\n",
    "USAA <- USAA[index,]"
   ]
  },
  {
   "cell_type": "markdown",
   "metadata": {},
   "source": [
    "### Below we will intentionally change a data element to ensure we are accurately displaying any discrepancies between files - Note in the last row of results that it tells us there is a mismatch on StatusOfBudgetaryResourcesTotal_CPE in record 2. This let's us know that our program is working as intended."
   ]
  },
  {
   "cell_type": "code",
   "execution_count": 7,
   "metadata": {},
   "outputs": [
    {
     "name": "stdout",
     "output_type": "stream",
     "text": [
      "[1] \"Mismatch on USATAS in observation: \"\n",
      "[1] \"Mismatch on BudgetAuthorityUnobligatedBalanceBroughtForward_FYB in observation: \"\n",
      "[1] \"Mismatch on AdjustmentsToUnobligatedBalanceBroughtForward_CPE in observation: \"\n",
      "[1] \"Mismatch on BudgetAuthorityAppropriatedAmount_CPE in observation: \"\n",
      "[1] \"Mismatch on BorrowingAuthorityAmountTotal_CPE in observation: \"\n",
      "[1] \"Mismatch on ContractAuthorityAmountTotal_CPE in observation: \"\n",
      "[1] \"Mismatch on SpendingAuthorityfromOffsettingCollectionsAmountTotal_CPE in observation: \"\n",
      "[1] \"Mismatch on OtherBudgetaryResourcesAmount_CPE in observation: \"\n",
      "[1] \"Mismatch on BudgetAuthorityAvailableAmountTotal_CPE in observation: \"\n",
      "[1] \"Mismatch on GrossOutlayAmountByTAS_CPE in observation: \"\n",
      "[1] \"Mismatch on ObligationsIncurredTotalByTAS_CPE in observation: \"\n",
      "[1] \"Mismatch on DeobligationsRecoveriesRefundsByTAS_CPE in observation: \"\n",
      "[1] \"Mismatch on UnobligatedBalance_CPE in observation: \"\n",
      "[1] \"Mismatch on StatusOfBudgetaryResourcesTotal_CPE in observation: 2\"\n"
     ]
    }
   ],
   "source": [
    "# Change an entry to something that will create an error for testing purposes\n",
    "# When Running the check, the below statement will tell us that\n",
    "# there is a mismatch on observation 2 of StatusOfBudgetaryResourcesTotal_CPE\n",
    "USAA$StatusOfBudgetaryResourcesTotal_CPE[2] = \"hello\"\n",
    "\n",
    "# Display any mismatches by row and which column\n",
    "for (i in 1:length(USAA[1,])){\n",
    "  print(paste(\"Mismatch on\", colnames(USAA)[i], \"in observation:\", which(USAA[,i] != escA[,i])))\n",
    "}"
   ]
  }
 ],
 "metadata": {
  "kernelspec": {
   "display_name": "R",
   "language": "R",
   "name": "ir"
  },
  "language_info": {
   "codemirror_mode": "r",
   "file_extension": ".r",
   "mimetype": "text/x-r-source",
   "name": "R",
   "pygments_lexer": "r",
   "version": "3.5.1"
  }
 },
 "nbformat": 4,
 "nbformat_minor": 2
}
