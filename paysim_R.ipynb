{
 "cells": [
  {
   "cell_type": "markdown",
   "metadata": {},
   "source": [
    "Load Required Packages"
   ]
  },
  {
   "cell_type": "code",
   "execution_count": 3,
   "metadata": {
    "scrolled": true
   },
   "outputs": [],
   "source": [
    "library(dplyr)\n",
    "library(ggplot2)\n",
    "library(reshape2)\n",
    "library(caret)\n",
    "library(e1071)\n",
    "library(caTools)\n",
    "library(ISLR)"
   ]
  },
  {
   "cell_type": "code",
   "execution_count": 4,
   "metadata": {
    "scrolled": false
   },
   "outputs": [
    {
     "data": {
      "text/html": [
       "<table>\n",
       "<thead><tr><th scope=col>step</th><th scope=col>type</th><th scope=col>amount</th><th scope=col>nameOrig</th><th scope=col>oldbalanceOrg</th><th scope=col>newbalanceOrig</th><th scope=col>nameDest</th><th scope=col>oldbalanceDest</th><th scope=col>newbalanceDest</th><th scope=col>isFraud</th><th scope=col>isFlaggedFraud</th></tr></thead>\n",
       "<tbody>\n",
       "\t<tr><td>1          </td><td>PAYMENT    </td><td> 9839.64   </td><td>C1231006815</td><td> NA        </td><td>NA         </td><td>M1979787155</td><td>    0      </td><td>0          </td><td>0          </td><td>0          </td></tr>\n",
       "\t<tr><td>1          </td><td>PAYMENT    </td><td> 1864.28   </td><td>C1666544295</td><td> NA        </td><td>NA         </td><td>M2044282225</td><td>    0      </td><td>0          </td><td>0          </td><td>0          </td></tr>\n",
       "\t<tr><td>1          </td><td>TRANSFER   </td><td>  181.00   </td><td>C1305486145</td><td>181        </td><td> 0         </td><td>C553264065 </td><td>    0      </td><td>0          </td><td>1          </td><td>0          </td></tr>\n",
       "\t<tr><td>1          </td><td>CASH_OUT   </td><td>  181.00   </td><td>C840083671 </td><td>181        </td><td> 0         </td><td>C38997010  </td><td>21182      </td><td>0          </td><td>1          </td><td>0          </td></tr>\n",
       "\t<tr><td>1          </td><td>PAYMENT    </td><td>11668.14   </td><td>C2048537720</td><td> NA        </td><td>NA         </td><td>M1230701703</td><td>    0      </td><td>0          </td><td>0          </td><td>0          </td></tr>\n",
       "\t<tr><td>1          </td><td>PAYMENT    </td><td> 7817.71   </td><td>C90045638  </td><td> NA        </td><td>NA         </td><td>M573487274 </td><td>    0      </td><td>0          </td><td>0          </td><td>0          </td></tr>\n",
       "</tbody>\n",
       "</table>\n"
      ],
      "text/latex": [
       "\\begin{tabular}{r|lllllllllll}\n",
       " step & type & amount & nameOrig & oldbalanceOrg & newbalanceOrig & nameDest & oldbalanceDest & newbalanceDest & isFraud & isFlaggedFraud\\\\\n",
       "\\hline\n",
       "\t 1           & PAYMENT     &  9839.64    & C1231006815 &  NA         & NA          & M1979787155 &     0       & 0           & 0           & 0          \\\\\n",
       "\t 1           & PAYMENT     &  1864.28    & C1666544295 &  NA         & NA          & M2044282225 &     0       & 0           & 0           & 0          \\\\\n",
       "\t 1           & TRANSFER    &   181.00    & C1305486145 & 181         &  0          & C553264065  &     0       & 0           & 1           & 0          \\\\\n",
       "\t 1           & CASH\\_OUT  &   181.00    & C840083671  & 181         &  0          & C38997010   & 21182       & 0           & 1           & 0          \\\\\n",
       "\t 1           & PAYMENT     & 11668.14    & C2048537720 &  NA         & NA          & M1230701703 &     0       & 0           & 0           & 0          \\\\\n",
       "\t 1           & PAYMENT     &  7817.71    & C90045638   &  NA         & NA          & M573487274  &     0       & 0           & 0           & 0          \\\\\n",
       "\\end{tabular}\n"
      ],
      "text/markdown": [
       "\n",
       "step | type | amount | nameOrig | oldbalanceOrg | newbalanceOrig | nameDest | oldbalanceDest | newbalanceDest | isFraud | isFlaggedFraud | \n",
       "|---|---|---|---|---|---|\n",
       "| 1           | PAYMENT     |  9839.64    | C1231006815 |  NA         | NA          | M1979787155 |     0       | 0           | 0           | 0           | \n",
       "| 1           | PAYMENT     |  1864.28    | C1666544295 |  NA         | NA          | M2044282225 |     0       | 0           | 0           | 0           | \n",
       "| 1           | TRANSFER    |   181.00    | C1305486145 | 181         |  0          | C553264065  |     0       | 0           | 1           | 0           | \n",
       "| 1           | CASH_OUT    |   181.00    | C840083671  | 181         |  0          | C38997010   | 21182       | 0           | 1           | 0           | \n",
       "| 1           | PAYMENT     | 11668.14    | C2048537720 |  NA         | NA          | M1230701703 |     0       | 0           | 0           | 0           | \n",
       "| 1           | PAYMENT     |  7817.71    | C90045638   |  NA         | NA          | M573487274  |     0       | 0           | 0           | 0           | \n",
       "\n",
       "\n"
      ],
      "text/plain": [
       "  step type     amount   nameOrig    oldbalanceOrg newbalanceOrig nameDest   \n",
       "1 1    PAYMENT   9839.64 C1231006815  NA           NA             M1979787155\n",
       "2 1    PAYMENT   1864.28 C1666544295  NA           NA             M2044282225\n",
       "3 1    TRANSFER   181.00 C1305486145 181            0             C553264065 \n",
       "4 1    CASH_OUT   181.00 C840083671  181            0             C38997010  \n",
       "5 1    PAYMENT  11668.14 C2048537720  NA           NA             M1230701703\n",
       "6 1    PAYMENT   7817.71 C90045638    NA           NA             M573487274 \n",
       "  oldbalanceDest newbalanceDest isFraud isFlaggedFraud\n",
       "1     0          0              0       0             \n",
       "2     0          0              0       0             \n",
       "3     0          0              1       0             \n",
       "4 21182          0              1       0             \n",
       "5     0          0              0       0             \n",
       "6     0          0              0       0             "
      ]
     },
     "metadata": {},
     "output_type": "display_data"
    }
   ],
   "source": [
    "# Read in Data\n",
    "paysim <- read.csv(\"C:/Users/jared.mcculloch/Desktop/AI Groundwork/PS_20174392719_1491204439457_withNulls_log.csv\")\n",
    "paysim <- paysim[1:100000,]\n",
    "head(paysim)"
   ]
  },
  {
   "cell_type": "code",
   "execution_count": 5,
   "metadata": {
    "scrolled": false
   },
   "outputs": [
    {
     "name": "stdout",
     "output_type": "stream",
     "text": [
      "[1] \"total size of data set: \" \"100000\"                  \n",
      " [1] \"variables: \"    \"step\"           \"type\"           \"amount\"        \n",
      " [5] \"nameOrig\"       \"oldbalanceOrg\"  \"newbalanceOrig\" \"nameDest\"      \n",
      " [9] \"oldbalanceDest\" \"newbalanceDest\" \"isFraud\"        \"isFlaggedFraud\"\n"
     ]
    }
   ],
   "source": [
    "# Identify primary key\n",
    "total_size = (length(paysim[[1]]))\n",
    "print(c(\"total size of data set: \", total_size))\n",
    "print(c(\"variables: \", colnames(paysim)))"
   ]
  },
  {
   "cell_type": "code",
   "execution_count": 6,
   "metadata": {},
   "outputs": [
    {
     "data": {
      "text/html": [
       "<dl class=dl-horizontal>\n",
       "\t<dt>step</dt>\n",
       "\t\t<dd>'integer'</dd>\n",
       "\t<dt>type</dt>\n",
       "\t\t<dd>'factor'</dd>\n",
       "\t<dt>amount</dt>\n",
       "\t\t<dd>'numeric'</dd>\n",
       "\t<dt>nameOrig</dt>\n",
       "\t\t<dd>'factor'</dd>\n",
       "\t<dt>oldbalanceOrg</dt>\n",
       "\t\t<dd>'numeric'</dd>\n",
       "\t<dt>newbalanceOrig</dt>\n",
       "\t\t<dd>'numeric'</dd>\n",
       "\t<dt>nameDest</dt>\n",
       "\t\t<dd>'factor'</dd>\n",
       "\t<dt>oldbalanceDest</dt>\n",
       "\t\t<dd>'numeric'</dd>\n",
       "\t<dt>newbalanceDest</dt>\n",
       "\t\t<dd>'numeric'</dd>\n",
       "\t<dt>isFraud</dt>\n",
       "\t\t<dd>'integer'</dd>\n",
       "\t<dt>isFlaggedFraud</dt>\n",
       "\t\t<dd>'integer'</dd>\n",
       "</dl>\n"
      ],
      "text/latex": [
       "\\begin{description*}\n",
       "\\item[step] 'integer'\n",
       "\\item[type] 'factor'\n",
       "\\item[amount] 'numeric'\n",
       "\\item[nameOrig] 'factor'\n",
       "\\item[oldbalanceOrg] 'numeric'\n",
       "\\item[newbalanceOrig] 'numeric'\n",
       "\\item[nameDest] 'factor'\n",
       "\\item[oldbalanceDest] 'numeric'\n",
       "\\item[newbalanceDest] 'numeric'\n",
       "\\item[isFraud] 'integer'\n",
       "\\item[isFlaggedFraud] 'integer'\n",
       "\\end{description*}\n"
      ],
      "text/markdown": [
       "step\n",
       ":   'integer'type\n",
       ":   'factor'amount\n",
       ":   'numeric'nameOrig\n",
       ":   'factor'oldbalanceOrg\n",
       ":   'numeric'newbalanceOrig\n",
       ":   'numeric'nameDest\n",
       ":   'factor'oldbalanceDest\n",
       ":   'numeric'newbalanceDest\n",
       ":   'numeric'isFraud\n",
       ":   'integer'isFlaggedFraud\n",
       ":   'integer'\n",
       "\n"
      ],
      "text/plain": [
       "          step           type         amount       nameOrig  oldbalanceOrg \n",
       "     \"integer\"       \"factor\"      \"numeric\"       \"factor\"      \"numeric\" \n",
       "newbalanceOrig       nameDest oldbalanceDest newbalanceDest        isFraud \n",
       "     \"numeric\"       \"factor\"      \"numeric\"      \"numeric\"      \"integer\" \n",
       "isFlaggedFraud \n",
       "     \"integer\" "
      ]
     },
     "metadata": {},
     "output_type": "display_data"
    },
    {
     "data": {
      "text/plain": [
       "      step            type           amount                nameOrig    \n",
       " Min.   : 1.0   CASH_IN :20185   Min.   :       0   C1000037689:    1  \n",
       " 1st Qu.: 8.0   CASH_OUT:30718   1st Qu.:    9964   C1000039823:    1  \n",
       " Median : 9.0   DEBIT   :  988   Median :   52746   C1000079132:    1  \n",
       " Mean   : 8.5   PAYMENT :39512   Mean   :  173602   C1000109302:    1  \n",
       " 3rd Qu.:10.0   TRANSFER: 8597   3rd Qu.:  211763   C1000119377:    1  \n",
       " Max.   :10.0                    Max.   :10000000   C1000148923:    1  \n",
       "                                                    (Other)    :99994  \n",
       " oldbalanceOrg      newbalanceOrig            nameDest     oldbalanceDest    \n",
       " Min.   :       0   Min.   :       0   C985934102 :   78   Min.   :       0  \n",
       " 1st Qu.:       0   1st Qu.:       0   C1286084959:   72   1st Qu.:       0  \n",
       " Median :   20058   Median :       0   C248609774 :   71   Median :   20839  \n",
       " Mean   :  877797   Mean   :  894102   C1590550415:   69   Mean   :  880505  \n",
       " 3rd Qu.:  190264   3rd Qu.:  214853   C2083562754:   66   3rd Qu.:  588272  \n",
       " Max.   :33797392   Max.   :34008737   C665576141 :   65   Max.   :34008737  \n",
       " NA's   :5          NA's   :5          (Other)    :99579                     \n",
       " newbalanceDest        isFraud        isFlaggedFraud\n",
       " Min.   :       0   Min.   :0.00000   Min.   :0     \n",
       " 1st Qu.:       0   1st Qu.:0.00000   1st Qu.:0     \n",
       " Median :   49909   Median :0.00000   Median :0     \n",
       " Mean   : 1184041   Mean   :0.00116   Mean   :0     \n",
       " 3rd Qu.: 1058186   3rd Qu.:0.00000   3rd Qu.:0     \n",
       " Max.   :38946233   Max.   :1.00000   Max.   :0     \n",
       "                                                    "
      ]
     },
     "metadata": {},
     "output_type": "display_data"
    }
   ],
   "source": [
    "# Check data types\n",
    "sapply(paysim, class)\n",
    "\n",
    "summary(paysim)"
   ]
  },
  {
   "cell_type": "code",
   "execution_count": 7,
   "metadata": {},
   "outputs": [
    {
     "name": "stdout",
     "output_type": "stream",
     "text": [
      "[1] \"What values are in the type variable? \"\n",
      "[2] \"4\"                                     \n",
      "[3] \"5\"                                     \n",
      "[4] \"2\"                                     \n",
      "[5] \"3\"                                     \n",
      "[6] \"1\"                                     \n",
      "[1] \"What values are in the isFraud? \" \"0\"                               \n",
      "[3] \"1\"                               \n",
      "[1] \"What values are in the isFlaggedFraud? \"\n",
      "[2] \"0\"                                      \n"
     ]
    }
   ],
   "source": [
    "# Check the character data types\n",
    "print(c(\"What values are in the type variable? \", unique(paysim$type)))\n",
    "print(c(\"What values are in the isFraud? \", unique(paysim$isFraud)))\n",
    "print(c(\"What values are in the isFlaggedFraud? \", unique(paysim$isFlaggedFraud)))"
   ]
  },
  {
   "cell_type": "code",
   "execution_count": 8,
   "metadata": {},
   "outputs": [
    {
     "data": {
      "text/html": [
       "TRUE"
      ],
      "text/latex": [
       "TRUE"
      ],
      "text/markdown": [
       "TRUE"
      ],
      "text/plain": [
       "[1] TRUE"
      ]
     },
     "metadata": {},
     "output_type": "display_data"
    },
    {
     "data": {
      "text/html": [
       "FALSE"
      ],
      "text/latex": [
       "FALSE"
      ],
      "text/markdown": [
       "FALSE"
      ],
      "text/plain": [
       "[1] FALSE"
      ]
     },
     "metadata": {},
     "output_type": "display_data"
    }
   ],
   "source": [
    "# Check for missing values\n",
    "any(is.na(paysim))\n",
    "\n",
    "paysim <- na.omit(paysim)\n",
    "\n",
    "any(is.na(paysim))"
   ]
  },
  {
   "cell_type": "code",
   "execution_count": 9,
   "metadata": {},
   "outputs": [],
   "source": [
    "# Create binary from categorical type variable\n",
    "paysim2 <- paysim\n",
    "paysim3 <- paysim$type\n",
    "\n",
    "TRANSFER <- gsub(\"TRANSFER\",1,as.character(paysim3))\n",
    "TRANSFER <- gsub(\"(PAYMENT)|(CASH_OUT)|(DEBIT)|(CASH_IN)\",0,TRANSFER)\n",
    "paysim2 <- cbind(paysim2,TRANSFER)\n",
    "\n",
    "PAYMENT <- gsub(\"PAYMENT\",1,as.character(paysim3))\n",
    "PAYMENT <- gsub(\"(TRANSFER)|(CASH_OUT)|(DEBIT)|(CASH_IN)\",0,PAYMENT)\n",
    "paysim2 <- cbind(paysim2,PAYMENT)\n",
    "\n",
    "CASH_OUT <- gsub(\"CASH_OUT\",1,as.character(paysim3))\n",
    "CASH_OUT <- gsub(\"(TRANSFER)|(PAYMENT)|(DEBIT)|(CASH_IN)\",0,CASH_OUT)\n",
    "paysim2 <- cbind(paysim2,CASH_OUT)\n",
    "\n",
    "DEBIT <- gsub(\"DEBIT\",1,as.character(paysim3))\n",
    "DEBIT <- gsub(\"(TRANSFER)|(PAYMENT)|(CASH_OUT)|(CASH_IN)\",0,DEBIT)\n",
    "paysim2 <- cbind(paysim2,DEBIT)\n",
    "\n",
    "CASH_IN <- gsub(\"CASH_IN\",1,as.character(paysim3))\n",
    "CASH_IN <- gsub(\"(TRANSFER)|(PAYMENT)|(CASH_OUT)|(DEBIT)\",0,CASH_IN)\n",
    "paysim2 <- cbind(paysim2,CASH_IN)\n",
    "\n",
    "paysim <- paysim2"
   ]
  },
  {
   "cell_type": "code",
   "execution_count": 10,
   "metadata": {},
   "outputs": [
    {
     "data": {
      "text/plain": [
       "    Min.  1st Qu.   Median     Mean  3rd Qu.     Max. \n",
       "       0     9967    52760   173611   211784 10000000 "
      ]
     },
     "metadata": {},
     "output_type": "display_data"
    },
    {
     "data": {},
     "metadata": {},
     "output_type": "display_data"
    },
    {
     "data": {
      "image/png": "[encoded data removed]",
      "text/plain": [
       "plot without title"
      ]
     },
     "metadata": {},
     "output_type": "display_data"
    }
   ],
   "source": [
    "# Let's review one varaible before setting up the rest of the histograms\n",
    "# Based on the results, we may need to tune the parameters to fit the data\n",
    "summary(paysim$amount)\n",
    "\n",
    "ggplot(paysim, aes(amount)) + geom_histogram(bins = 20, binwidth = 10000)"
   ]
  },
  {
   "cell_type": "code",
   "execution_count": 11,
   "metadata": {},
   "outputs": [
    {
     "data": {},
     "metadata": {},
     "output_type": "display_data"
    },
    {
     "data": {
      "image/png": "[encoded data removed]",
      "text/plain": [
       "plot without title"
      ]
     },
     "metadata": {},
     "output_type": "display_data"
    }
   ],
   "source": [
    "# Get correlations\n",
    "cor_paysim <- round(cor(paysim[c(\"amount\",\"oldbalanceOrg\",\"newbalanceOrig\",\"oldbalanceDest\",\"newbalanceDest\")]),4)\n",
    "melted_cor_paysim <- melt(cor_paysim)\n",
    "\n",
    "ggplot(melted_cor_paysim, aes(x = Var1, y= reorder(Var2, desc(Var2)), fill = value)) + geom_tile() +\n",
    "  #scale_fill_gradient2(low=\"black\", high =\"#F9EBDD\") +\n",
    "  geom_text(aes(Var1, Var2, label = value), color = \"white\", size = 4)"
   ]
  },
  {
   "cell_type": "code",
   "execution_count": 12,
   "metadata": {},
   "outputs": [
    {
     "data": {
      "text/html": [
       "<table>\n",
       "<thead><tr><th></th><th scope=col>step</th><th scope=col>type</th><th scope=col>amount</th><th scope=col>nameOrig</th><th scope=col>oldbalanceOrg</th><th scope=col>newbalanceOrig</th><th scope=col>nameDest</th><th scope=col>oldbalanceDest</th><th scope=col>newbalanceDest</th><th scope=col>isFraud</th><th scope=col>isFlaggedFraud</th><th scope=col>TRANSFER</th><th scope=col>PAYMENT</th><th scope=col>CASH_OUT</th><th scope=col>DEBIT</th><th scope=col>CASH_IN</th></tr></thead>\n",
       "<tbody>\n",
       "\t<tr><th scope=row>3</th><td>1          </td><td>TRANSFER   </td><td> 181.00    </td><td>C1305486145</td><td>   181.0   </td><td>     0.00  </td><td>C553264065 </td><td>    0      </td><td>     0.00  </td><td>1          </td><td>0          </td><td>1          </td><td>0          </td><td>0          </td><td>0          </td><td>0          </td></tr>\n",
       "\t<tr><th scope=row>4</th><td>1          </td><td>CASH_OUT   </td><td> 181.00    </td><td>C840083671 </td><td>   181.0   </td><td>     0.00  </td><td>C38997010  </td><td>21182      </td><td>     0.00  </td><td>1          </td><td>0          </td><td>0          </td><td>0          </td><td>1          </td><td>0          </td><td>0          </td></tr>\n",
       "\t<tr><th scope=row>8</th><td>1          </td><td>PAYMENT    </td><td>7861.64    </td><td>C1912850431</td><td>176087.2   </td><td>168225.59  </td><td>M633326333 </td><td>    0      </td><td>     0.00  </td><td>0          </td><td>0          </td><td>0          </td><td>1          </td><td>0          </td><td>0          </td><td>0          </td></tr>\n",
       "\t<tr><th scope=row>9</th><td>1          </td><td>PAYMENT    </td><td>4024.36    </td><td>C1265012928</td><td>  2671.0   </td><td>     0.00  </td><td>M1176932104</td><td>    0      </td><td>     0.00  </td><td>0          </td><td>0          </td><td>0          </td><td>1          </td><td>0          </td><td>0          </td><td>0          </td></tr>\n",
       "\t<tr><th scope=row>10</th><td>1          </td><td>DEBIT      </td><td>5337.77    </td><td>C712410124 </td><td> 41720.0   </td><td> 36382.23  </td><td>C195600860 </td><td>41898      </td><td> 40348.79  </td><td>0          </td><td>0          </td><td>0          </td><td>0          </td><td>0          </td><td>1          </td><td>0          </td></tr>\n",
       "\t<tr><th scope=row>11</th><td>1          </td><td>DEBIT      </td><td>9644.94    </td><td>C1900366749</td><td>  4465.0   </td><td>     0.00  </td><td>C997608398 </td><td>10845      </td><td>157982.12  </td><td>0          </td><td>0          </td><td>0          </td><td>0          </td><td>0          </td><td>1          </td><td>0          </td></tr>\n",
       "</tbody>\n",
       "</table>\n"
      ],
      "text/latex": [
       "\\begin{tabular}{r|llllllllllllllll}\n",
       "  & step & type & amount & nameOrig & oldbalanceOrg & newbalanceOrig & nameDest & oldbalanceDest & newbalanceDest & isFraud & isFlaggedFraud & TRANSFER & PAYMENT & CASH\\_OUT & DEBIT & CASH\\_IN\\\\\n",
       "\\hline\n",
       "\t3 & 1           & TRANSFER    &  181.00     & C1305486145 &    181.0    &      0.00   & C553264065  &     0       &      0.00   & 1           & 0           & 1           & 0           & 0           & 0           & 0          \\\\\n",
       "\t4 & 1           & CASH\\_OUT  &  181.00     & C840083671  &    181.0    &      0.00   & C38997010   & 21182       &      0.00   & 1           & 0           & 0           & 0           & 1           & 0           & 0          \\\\\n",
       "\t8 & 1           & PAYMENT     & 7861.64     & C1912850431 & 176087.2    & 168225.59   & M633326333  &     0       &      0.00   & 0           & 0           & 0           & 1           & 0           & 0           & 0          \\\\\n",
       "\t9 & 1           & PAYMENT     & 4024.36     & C1265012928 &   2671.0    &      0.00   & M1176932104 &     0       &      0.00   & 0           & 0           & 0           & 1           & 0           & 0           & 0          \\\\\n",
       "\t10 & 1           & DEBIT       & 5337.77     & C712410124  &  41720.0    &  36382.23   & C195600860  & 41898       &  40348.79   & 0           & 0           & 0           & 0           & 0           & 1           & 0          \\\\\n",
       "\t11 & 1           & DEBIT       & 9644.94     & C1900366749 &   4465.0    &      0.00   & C997608398  & 10845       & 157982.12   & 0           & 0           & 0           & 0           & 0           & 1           & 0          \\\\\n",
       "\\end{tabular}\n"
      ],
      "text/markdown": [
       "\n",
       "| <!--/--> | step | type | amount | nameOrig | oldbalanceOrg | newbalanceOrig | nameDest | oldbalanceDest | newbalanceDest | isFraud | isFlaggedFraud | TRANSFER | PAYMENT | CASH_OUT | DEBIT | CASH_IN | \n",
       "|---|---|---|---|---|---|\n",
       "| 3 | 1           | TRANSFER    |  181.00     | C1305486145 |    181.0    |      0.00   | C553264065  |     0       |      0.00   | 1           | 0           | 1           | 0           | 0           | 0           | 0           | \n",
       "| 4 | 1           | CASH_OUT    |  181.00     | C840083671  |    181.0    |      0.00   | C38997010   | 21182       |      0.00   | 1           | 0           | 0           | 0           | 1           | 0           | 0           | \n",
       "| 8 | 1           | PAYMENT     | 7861.64     | C1912850431 | 176087.2    | 168225.59   | M633326333  |     0       |      0.00   | 0           | 0           | 0           | 1           | 0           | 0           | 0           | \n",
       "| 9 | 1           | PAYMENT     | 4024.36     | C1265012928 |   2671.0    |      0.00   | M1176932104 |     0       |      0.00   | 0           | 0           | 0           | 1           | 0           | 0           | 0           | \n",
       "| 10 | 1           | DEBIT       | 5337.77     | C712410124  |  41720.0    |  36382.23   | C195600860  | 41898       |  40348.79   | 0           | 0           | 0           | 0           | 0           | 1           | 0           | \n",
       "| 11 | 1           | DEBIT       | 9644.94     | C1900366749 |   4465.0    |      0.00   | C997608398  | 10845       | 157982.12   | 0           | 0           | 0           | 0           | 0           | 1           | 0           | \n",
       "\n",
       "\n"
      ],
      "text/plain": [
       "   step type     amount  nameOrig    oldbalanceOrg newbalanceOrig nameDest   \n",
       "3  1    TRANSFER  181.00 C1305486145    181.0           0.00      C553264065 \n",
       "4  1    CASH_OUT  181.00 C840083671     181.0           0.00      C38997010  \n",
       "8  1    PAYMENT  7861.64 C1912850431 176087.2      168225.59      M633326333 \n",
       "9  1    PAYMENT  4024.36 C1265012928   2671.0           0.00      M1176932104\n",
       "10 1    DEBIT    5337.77 C712410124   41720.0       36382.23      C195600860 \n",
       "11 1    DEBIT    9644.94 C1900366749   4465.0           0.00      C997608398 \n",
       "   oldbalanceDest newbalanceDest isFraud isFlaggedFraud TRANSFER PAYMENT\n",
       "3      0               0.00      1       0              1        0      \n",
       "4  21182               0.00      1       0              0        0      \n",
       "8      0               0.00      0       0              0        1      \n",
       "9      0               0.00      0       0              0        1      \n",
       "10 41898           40348.79      0       0              0        0      \n",
       "11 10845          157982.12      0       0              0        0      \n",
       "   CASH_OUT DEBIT CASH_IN\n",
       "3  0        0     0      \n",
       "4  1        0     0      \n",
       "8  0        0     0      \n",
       "9  0        0     0      \n",
       "10 0        1     0      \n",
       "11 0        1     0      "
      ]
     },
     "metadata": {},
     "output_type": "display_data"
    }
   ],
   "source": [
    "# Normalize\n",
    "normalize2 <- function(x) {\n",
    "  return((x - min(x)) / (max(x) - min(x)))\n",
    "}\n",
    "\n",
    "normvars <- vector()\n",
    "\n",
    "normvars[c(\"normamount\",\"normoldbalanceOrg\",\"normnewbalanceOrig\",\n",
    "           \"normoldbalanceDest\",\"normnewbalanceDest\")] <- lapply(paysim[c(\"amount\",\"oldbalanceOrg\",\"newbalanceOrig\",\"oldbalanceDest\",\"newbalanceDest\")], normalize2)\n",
    "\n",
    "head(paysim)\n",
    "\n",
    "paysim <- cbind(paysim, normvars)"
   ]
  },
  {
   "cell_type": "code",
   "execution_count": 13,
   "metadata": {},
   "outputs": [],
   "source": [
    "# Prepare Data Sets\n",
    "X2 <- paysim[c(\"normamount\",\"normoldbalanceOrg\",\"normnewbalanceOrig\",\n",
    "                         \"normoldbalanceDest\",\"normnewbalanceDest\",\"PAYMENT\",\n",
    "                         \"TRANSFER\",\"CASH_OUT\", \"DEBIT\", \"CASH_IN\", \"isFraud\")]"
   ]
  },
  {
   "cell_type": "code",
   "execution_count": 14,
   "metadata": {},
   "outputs": [],
   "source": [
    "# K-folds Cross-Validation\n",
    "set.seed(1234)\n",
    "kf <- createFolds(X2$isFraud, k = 10)"
   ]
  },
  {
   "cell_type": "code",
   "execution_count": 15,
   "metadata": {},
   "outputs": [
    {
     "name": "stderr",
     "output_type": "stream",
     "text": [
      "Warning message:\n",
      "\"glm.fit: fitted probabilities numerically 0 or 1 occurred\"Warning message in predict.lm(object, newdata, se.fit, scale = 1, type = ifelse(type == :\n",
      "\"prediction from a rank-deficient fit may be misleading\""
     ]
    },
    {
     "name": "stdout",
     "output_type": "stream",
     "text": [
      "[1] \"Accuracy: \" \"0.9988\"    \n"
     ]
    },
    {
     "name": "stderr",
     "output_type": "stream",
     "text": [
      "Warning message:\n",
      "\"glm.fit: algorithm did not converge\"Warning message:\n",
      "\"glm.fit: fitted probabilities numerically 0 or 1 occurred\"Warning message in predict.lm(object, newdata, se.fit, scale = 1, type = ifelse(type == :\n",
      "\"prediction from a rank-deficient fit may be misleading\""
     ]
    },
    {
     "name": "stdout",
     "output_type": "stream",
     "text": [
      "[1] \"Accuracy: \" \"0.9992\"    \n"
     ]
    },
    {
     "name": "stderr",
     "output_type": "stream",
     "text": [
      "Warning message:\n",
      "\"glm.fit: fitted probabilities numerically 0 or 1 occurred\"Warning message in predict.lm(object, newdata, se.fit, scale = 1, type = ifelse(type == :\n",
      "\"prediction from a rank-deficient fit may be misleading\""
     ]
    },
    {
     "name": "stdout",
     "output_type": "stream",
     "text": [
      "[1] \"Accuracy: \" \"0.9985\"    \n"
     ]
    },
    {
     "name": "stderr",
     "output_type": "stream",
     "text": [
      "Warning message:\n",
      "\"glm.fit: algorithm did not converge\"Warning message:\n",
      "\"glm.fit: fitted probabilities numerically 0 or 1 occurred\"Warning message in predict.lm(object, newdata, se.fit, scale = 1, type = ifelse(type == :\n",
      "\"prediction from a rank-deficient fit may be misleading\""
     ]
    },
    {
     "name": "stdout",
     "output_type": "stream",
     "text": [
      "[1] \"Accuracy: \" \"0.9996\"    \n"
     ]
    },
    {
     "name": "stderr",
     "output_type": "stream",
     "text": [
      "Warning message:\n",
      "\"glm.fit: fitted probabilities numerically 0 or 1 occurred\"Warning message in predict.lm(object, newdata, se.fit, scale = 1, type = ifelse(type == :\n",
      "\"prediction from a rank-deficient fit may be misleading\""
     ]
    },
    {
     "name": "stdout",
     "output_type": "stream",
     "text": [
      "[1] \"Accuracy: \" \"0.9991\"    \n"
     ]
    },
    {
     "name": "stderr",
     "output_type": "stream",
     "text": [
      "Warning message:\n",
      "\"glm.fit: fitted probabilities numerically 0 or 1 occurred\"Warning message in predict.lm(object, newdata, se.fit, scale = 1, type = ifelse(type == :\n",
      "\"prediction from a rank-deficient fit may be misleading\""
     ]
    },
    {
     "name": "stdout",
     "output_type": "stream",
     "text": [
      "[1] \"Accuracy: \" \"0.9984\"    \n"
     ]
    },
    {
     "name": "stderr",
     "output_type": "stream",
     "text": [
      "Warning message:\n",
      "\"glm.fit: fitted probabilities numerically 0 or 1 occurred\"Warning message in predict.lm(object, newdata, se.fit, scale = 1, type = ifelse(type == :\n",
      "\"prediction from a rank-deficient fit may be misleading\""
     ]
    },
    {
     "name": "stdout",
     "output_type": "stream",
     "text": [
      "[1] \"Accuracy: \" \"0.9989\"    \n"
     ]
    },
    {
     "name": "stderr",
     "output_type": "stream",
     "text": [
      "Warning message:\n",
      "\"glm.fit: algorithm did not converge\"Warning message:\n",
      "\"glm.fit: fitted probabilities numerically 0 or 1 occurred\"Warning message in predict.lm(object, newdata, se.fit, scale = 1, type = ifelse(type == :\n",
      "\"prediction from a rank-deficient fit may be misleading\""
     ]
    },
    {
     "name": "stdout",
     "output_type": "stream",
     "text": [
      "[1] \"Accuracy: \" \"0.953\"     \n"
     ]
    },
    {
     "name": "stderr",
     "output_type": "stream",
     "text": [
      "Warning message:\n",
      "\"glm.fit: fitted probabilities numerically 0 or 1 occurred\"Warning message in predict.lm(object, newdata, se.fit, scale = 1, type = ifelse(type == :\n",
      "\"prediction from a rank-deficient fit may be misleading\""
     ]
    },
    {
     "name": "stdout",
     "output_type": "stream",
     "text": [
      "[1] \"Accuracy: \" \"0.9986\"    \n"
     ]
    },
    {
     "name": "stderr",
     "output_type": "stream",
     "text": [
      "Warning message:\n",
      "\"glm.fit: algorithm did not converge\"Warning message:\n",
      "\"glm.fit: fitted probabilities numerically 0 or 1 occurred\""
     ]
    },
    {
     "name": "stdout",
     "output_type": "stream",
     "text": [
      "[1] \"Accuracy: \" \"0.9993\"    \n"
     ]
    }
   ],
   "source": [
    "# Running and Testing the Logistic Regression Model\n",
    "cv = lapply(kf, function(x) {\n",
    "  # Establishes the training and testing folds\n",
    "  training_fold = X2[-x,]\n",
    "  test_fold = X2[x,]\n",
    "  # Constructing model\n",
    "  model <- glm(isFraud ~. ,family = binomial, data=training_fold)\n",
    "  pred <- round(predict(model, newdata = test_fold, type = \"response\"))\n",
    "  accuracy = round(mean(1-abs(pred - test_fold$isFraud)),4)\n",
    "  print(c(\"Accuracy: \",accuracy))\n",
    "})"
   ]
  }
 ],
 "metadata": {
  "kernelspec": {
   "display_name": "R",
   "language": "R",
   "name": "ir"
  },
  "language_info": {
   "codemirror_mode": "r",
   "file_extension": ".r",
   "mimetype": "text/x-r-source",
   "name": "R",
   "pygments_lexer": "r",
   "version": "3.5.1"
  }
 },
 "nbformat": 4,
 "nbformat_minor": 2
}
