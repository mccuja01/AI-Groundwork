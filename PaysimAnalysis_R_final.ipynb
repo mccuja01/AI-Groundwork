{
 "cells": [
  {
   "cell_type": "markdown",
   "metadata": {},
   "source": [
    "# Example 2a: Binary Classifier"
   ]
  },
  {
   "cell_type": "markdown",
   "metadata": {},
   "source": [
    "# 1. Use Case Intake"
   ]
  },
  {
   "cell_type": "markdown",
   "metadata": {},
   "source": [
    "The goal of this exercise is to build a statistical model to identify fraudulent financial transactions from authentic ones. Due to the limited availability of financial customer data, we are using a synthetic dataset that is modelled after the transaction records of a private financial services company which supports a mobile payments platform.  The fraudulent transactions we are attempting to identify have been simulated to have a pattern of malicious behavior that we hope to capture in our analysis."
   ]
  },
  {
   "cell_type": "markdown",
   "metadata": {},
   "source": [
    "## Solving a Binary Classification Problem with Logisitic Regression"
   ]
  },
  {
   "cell_type": "markdown",
   "metadata": {},
   "source": [
    "The outcome of our classification will result in two choices: whether a transaction is fraudulent or not fraudulent. For this exercise, we have chosen to model this binary choice using logistic regression. \n",
    "<br><br>Logistic regression is the appropriate regression analysis to conduct when the dependent (response or outcome) variable is dichotomous (binary).  Like all regression analyses, the logistic regression is a predictive analysis.  Logistic regression is used to describe data explain the relationship between one dependent binary variable and one or more nominal, ordinal, interval or ratio-level independent (predictor or explanatory) variables.\n",
    "<br><br>We will explore the benefits and limitations of this approach by evaluating the results by exploring accuracy measures such as precision and recall over a sample of test data. \n",
    "https://www.statisticssolutions.com/what-is-logistic-regression/"
   ]
  },
  {
   "cell_type": "markdown",
   "metadata": {},
   "source": [
    "## Overview of Data Set"
   ]
  },
  {
   "cell_type": "markdown",
   "metadata": {},
   "source": [
    "Here is an overview of the definitions of each variable in the data set provided by the creator of the data set. We will need to perform our own analyses on the contents of the data to fill in any information not described here:<br>\n",
    "- step - maps a unit of time in the real world. In this case 1 step is 1 hour of time. Total steps 744 (30 days simulation).\n",
    "- type - the type of transaction. Can be one of the following: \n",
    "    - CASH-IN, CASH-OUT, DEBIT, PAYMENT and TRANSFER.\n",
    "- amount - amount of the transaction in local currency.\n",
    "- nameOrig - account name of the customer who started the transaction.\n",
    "- oldbalanceOrg - initial balance before the transaction.\n",
    "- newbalanceOrig - new balance after the transaction.\n",
    "- nameDest - account name of the customer who is the recipient of the transaction.\n",
    "- oldbalanceDest - initial balance of the recipienta account before the transaction. Note that there is no information for customers that start with M (Merchants).\n",
    "- newbalanceDest - new balance the recipient account after the transaction. Note that there is no information for customers that start with M (Merchants).\n",
    "- isFraud - This is the transaction made by the fraudulent agents inside the simulation. In this specific dataset, the fraudulent behavior of the agents aims to profit by taking control or customers accounts and try to empty the funds by transferring to another account and then cashing out of the system.\n",
    "- isFlaggedFraud - The business model aims to control massive transfers from one account to another and flags illegal attempts. An illegal attempt in this dataset is an attempt to transfer more than 200.000 in a single transaction."
   ]
  },
  {
   "cell_type": "markdown",
   "metadata": {},
   "source": [
    "# Example 2a Exercise: Code Walkthrough "
   ]
  },
  {
   "cell_type": "markdown",
   "metadata": {},
   "source": [
    "Before we start the code review waltkthrough, we need to have the following packages installed to run the code: dplyr, ggplot2, reshape2, caret, e1071, stringr, and Metrics."
   ]
  },
  {
   "cell_type": "code",
   "execution_count": 17,
   "metadata": {},
   "outputs": [],
   "source": [
    "options(warn=-1)\n",
    "#Load required packages\n",
    "library(dplyr)\n",
    "library(ggplot2)\n",
    "library(reshape2)\n",
    "library(caret)\n",
    "library(e1071)\n",
    "library(caTools)\n",
    "library(ISLR)\n",
    "library(stringr)\n",
    "library(Metrics)"
   ]
  },
  {
   "cell_type": "markdown",
   "metadata": {},
   "source": [
    "## 2. Data Preprocessing"
   ]
  },
  {
   "cell_type": "code",
   "execution_count": 18,
   "metadata": {},
   "outputs": [],
   "source": [
    "paysim <- read.csv(\"C:/Users/jared.mcculloch/Desktop/AI Groundwork/PS_20174392719_1491204439457_withNulls_log.csv\")"
   ]
  },
  {
   "cell_type": "markdown",
   "metadata": {},
   "source": [
    "### Initial Observations"
   ]
  },
  {
   "cell_type": "code",
   "execution_count": 19,
   "metadata": {},
   "outputs": [
    {
     "data": {
      "text/html": [
       "<table>\n",
       "<thead><tr><th scope=col>step</th><th scope=col>type</th><th scope=col>amount</th><th scope=col>nameOrig</th><th scope=col>oldbalanceOrg</th><th scope=col>newbalanceOrig</th><th scope=col>nameDest</th><th scope=col>oldbalanceDest</th><th scope=col>newbalanceDest</th><th scope=col>isFraud</th><th scope=col>isFlaggedFraud</th></tr></thead>\n",
       "<tbody>\n",
       "\t<tr><td>1          </td><td>PAYMENT    </td><td> 9839.64   </td><td>C1231006815</td><td> NA        </td><td>NA         </td><td>M1979787155</td><td>    0      </td><td>0          </td><td>0          </td><td>0          </td></tr>\n",
       "\t<tr><td>1          </td><td>PAYMENT    </td><td> 1864.28   </td><td>C1666544295</td><td> NA        </td><td>NA         </td><td>M2044282225</td><td>    0      </td><td>0          </td><td>0          </td><td>0          </td></tr>\n",
       "\t<tr><td>1          </td><td>TRANSFER   </td><td>  181.00   </td><td>C1305486145</td><td>181        </td><td> 0         </td><td>C553264065 </td><td>    0      </td><td>0          </td><td>1          </td><td>0          </td></tr>\n",
       "\t<tr><td>1          </td><td>CASH_OUT   </td><td>  181.00   </td><td>C840083671 </td><td>181        </td><td> 0         </td><td>C38997010  </td><td>21182      </td><td>0          </td><td>1          </td><td>0          </td></tr>\n",
       "\t<tr><td>1          </td><td>PAYMENT    </td><td>11668.14   </td><td>C2048537720</td><td> NA        </td><td>NA         </td><td>M1230701703</td><td>    0      </td><td>0          </td><td>0          </td><td>0          </td></tr>\n",
       "\t<tr><td>1          </td><td>PAYMENT    </td><td> 7817.71   </td><td>C90045638  </td><td> NA        </td><td>NA         </td><td>M573487274 </td><td>    0      </td><td>0          </td><td>0          </td><td>0          </td></tr>\n",
       "</tbody>\n",
       "</table>\n"
      ],
      "text/latex": [
       "\\begin{tabular}{r|lllllllllll}\n",
       " step & type & amount & nameOrig & oldbalanceOrg & newbalanceOrig & nameDest & oldbalanceDest & newbalanceDest & isFraud & isFlaggedFraud\\\\\n",
       "\\hline\n",
       "\t 1           & PAYMENT     &  9839.64    & C1231006815 &  NA         & NA          & M1979787155 &     0       & 0           & 0           & 0          \\\\\n",
       "\t 1           & PAYMENT     &  1864.28    & C1666544295 &  NA         & NA          & M2044282225 &     0       & 0           & 0           & 0          \\\\\n",
       "\t 1           & TRANSFER    &   181.00    & C1305486145 & 181         &  0          & C553264065  &     0       & 0           & 1           & 0          \\\\\n",
       "\t 1           & CASH\\_OUT  &   181.00    & C840083671  & 181         &  0          & C38997010   & 21182       & 0           & 1           & 0          \\\\\n",
       "\t 1           & PAYMENT     & 11668.14    & C2048537720 &  NA         & NA          & M1230701703 &     0       & 0           & 0           & 0          \\\\\n",
       "\t 1           & PAYMENT     &  7817.71    & C90045638   &  NA         & NA          & M573487274  &     0       & 0           & 0           & 0          \\\\\n",
       "\\end{tabular}\n"
      ],
      "text/markdown": [
       "\n",
       "step | type | amount | nameOrig | oldbalanceOrg | newbalanceOrig | nameDest | oldbalanceDest | newbalanceDest | isFraud | isFlaggedFraud | \n",
       "|---|---|---|---|---|---|\n",
       "| 1           | PAYMENT     |  9839.64    | C1231006815 |  NA         | NA          | M1979787155 |     0       | 0           | 0           | 0           | \n",
       "| 1           | PAYMENT     |  1864.28    | C1666544295 |  NA         | NA          | M2044282225 |     0       | 0           | 0           | 0           | \n",
       "| 1           | TRANSFER    |   181.00    | C1305486145 | 181         |  0          | C553264065  |     0       | 0           | 1           | 0           | \n",
       "| 1           | CASH_OUT    |   181.00    | C840083671  | 181         |  0          | C38997010   | 21182       | 0           | 1           | 0           | \n",
       "| 1           | PAYMENT     | 11668.14    | C2048537720 |  NA         | NA          | M1230701703 |     0       | 0           | 0           | 0           | \n",
       "| 1           | PAYMENT     |  7817.71    | C90045638   |  NA         | NA          | M573487274  |     0       | 0           | 0           | 0           | \n",
       "\n",
       "\n"
      ],
      "text/plain": [
       "  step type     amount   nameOrig    oldbalanceOrg newbalanceOrig nameDest   \n",
       "1 1    PAYMENT   9839.64 C1231006815  NA           NA             M1979787155\n",
       "2 1    PAYMENT   1864.28 C1666544295  NA           NA             M2044282225\n",
       "3 1    TRANSFER   181.00 C1305486145 181            0             C553264065 \n",
       "4 1    CASH_OUT   181.00 C840083671  181            0             C38997010  \n",
       "5 1    PAYMENT  11668.14 C2048537720  NA           NA             M1230701703\n",
       "6 1    PAYMENT   7817.71 C90045638    NA           NA             M573487274 \n",
       "  oldbalanceDest newbalanceDest isFraud isFlaggedFraud\n",
       "1     0          0              0       0             \n",
       "2     0          0              0       0             \n",
       "3     0          0              1       0             \n",
       "4 21182          0              1       0             \n",
       "5     0          0              0       0             \n",
       "6     0          0              0       0             "
      ]
     },
     "metadata": {},
     "output_type": "display_data"
    }
   ],
   "source": [
    "# View the variables\n",
    "head(paysim)"
   ]
  },
  {
   "cell_type": "markdown",
   "metadata": {},
   "source": [
    "### Finding the Primary Key"
   ]
  },
  {
   "cell_type": "code",
   "execution_count": 20,
   "metadata": {},
   "outputs": [
    {
     "name": "stdout",
     "output_type": "stream",
     "text": [
      "[1] \"total size of data set: 6362620\"\n",
      " [1] \"variables: step\"           \"variables: type\"          \n",
      " [3] \"variables: amount\"         \"variables: nameOrig\"      \n",
      " [5] \"variables: oldbalanceOrg\"  \"variables: newbalanceOrig\"\n",
      " [7] \"variables: nameDest\"       \"variables: oldbalanceDest\"\n",
      " [9] \"variables: newbalanceDest\" \"variables: isFraud\"       \n",
      "[11] \"variables: isFlaggedFraud\"\n"
     ]
    }
   ],
   "source": [
    "# Identify primary key\n",
    "total_size = (length(paysim[[1]]))\n",
    "print(paste(\"total size of data set:\", total_size))\n",
    "print(paste(\"variables:\", colnames(paysim)))"
   ]
  },
  {
   "cell_type": "markdown",
   "metadata": {},
   "source": [
    "###  Extra Steps: Checking the Data Types"
   ]
  },
  {
   "cell_type": "code",
   "execution_count": 21,
   "metadata": {},
   "outputs": [
    {
     "data": {
      "text/html": [
       "<dl class=dl-horizontal>\n",
       "\t<dt>step</dt>\n",
       "\t\t<dd>'integer'</dd>\n",
       "\t<dt>type</dt>\n",
       "\t\t<dd>'factor'</dd>\n",
       "\t<dt>amount</dt>\n",
       "\t\t<dd>'numeric'</dd>\n",
       "\t<dt>nameOrig</dt>\n",
       "\t\t<dd>'factor'</dd>\n",
       "\t<dt>oldbalanceOrg</dt>\n",
       "\t\t<dd>'numeric'</dd>\n",
       "\t<dt>newbalanceOrig</dt>\n",
       "\t\t<dd>'numeric'</dd>\n",
       "\t<dt>nameDest</dt>\n",
       "\t\t<dd>'factor'</dd>\n",
       "\t<dt>oldbalanceDest</dt>\n",
       "\t\t<dd>'numeric'</dd>\n",
       "\t<dt>newbalanceDest</dt>\n",
       "\t\t<dd>'numeric'</dd>\n",
       "\t<dt>isFraud</dt>\n",
       "\t\t<dd>'integer'</dd>\n",
       "\t<dt>isFlaggedFraud</dt>\n",
       "\t\t<dd>'integer'</dd>\n",
       "</dl>\n"
      ],
      "text/latex": [
       "\\begin{description*}\n",
       "\\item[step] 'integer'\n",
       "\\item[type] 'factor'\n",
       "\\item[amount] 'numeric'\n",
       "\\item[nameOrig] 'factor'\n",
       "\\item[oldbalanceOrg] 'numeric'\n",
       "\\item[newbalanceOrig] 'numeric'\n",
       "\\item[nameDest] 'factor'\n",
       "\\item[oldbalanceDest] 'numeric'\n",
       "\\item[newbalanceDest] 'numeric'\n",
       "\\item[isFraud] 'integer'\n",
       "\\item[isFlaggedFraud] 'integer'\n",
       "\\end{description*}\n"
      ],
      "text/markdown": [
       "step\n",
       ":   'integer'type\n",
       ":   'factor'amount\n",
       ":   'numeric'nameOrig\n",
       ":   'factor'oldbalanceOrg\n",
       ":   'numeric'newbalanceOrig\n",
       ":   'numeric'nameDest\n",
       ":   'factor'oldbalanceDest\n",
       ":   'numeric'newbalanceDest\n",
       ":   'numeric'isFraud\n",
       ":   'integer'isFlaggedFraud\n",
       ":   'integer'\n",
       "\n"
      ],
      "text/plain": [
       "          step           type         amount       nameOrig  oldbalanceOrg \n",
       "     \"integer\"       \"factor\"      \"numeric\"       \"factor\"      \"numeric\" \n",
       "newbalanceOrig       nameDest oldbalanceDest newbalanceDest        isFraud \n",
       "     \"numeric\"       \"factor\"      \"numeric\"      \"numeric\"      \"integer\" \n",
       "isFlaggedFraud \n",
       "     \"integer\" "
      ]
     },
     "metadata": {},
     "output_type": "display_data"
    }
   ],
   "source": [
    "sapply(paysim, class)"
   ]
  },
  {
   "cell_type": "code",
   "execution_count": 22,
   "metadata": {},
   "outputs": [
    {
     "data": {
      "text/plain": [
       "      step             type             amount                nameOrig      \n",
       " Min.   :  1.0   CASH_IN :1399284   Min.   :       0   C1065307291:      3  \n",
       " 1st Qu.:156.0   CASH_OUT:2237500   1st Qu.:   13390   C1462946854:      3  \n",
       " Median :239.0   DEBIT   :  41432   Median :   74872   C1530544995:      3  \n",
       " Mean   :243.4   PAYMENT :2151495   Mean   :  179862   C1677795071:      3  \n",
       " 3rd Qu.:335.0   TRANSFER: 532909   3rd Qu.:  208721   C1784010646:      3  \n",
       " Max.   :743.0                      Max.   :92445517   C1832548028:      3  \n",
       "                                                       (Other)    :6362602  \n",
       " oldbalanceOrg      newbalanceOrig            nameDest      \n",
       " Min.   :       0   Min.   :       0   C1286084959:    113  \n",
       " 1st Qu.:       0   1st Qu.:       0   C985934102 :    109  \n",
       " Median :   14208   Median :       0   C665576141 :    105  \n",
       " Mean   :  833884   Mean   :  855114   C2083562754:    102  \n",
       " 3rd Qu.:  107315   3rd Qu.:  144258   C1590550415:    101  \n",
       " Max.   :59585040   Max.   :49585040   C248609774 :    101  \n",
       " NA's   :5          NA's   :5          (Other)    :6361989  \n",
       " oldbalanceDest      newbalanceDest         isFraud         isFlaggedFraud   \n",
       " Min.   :        0   Min.   :        0   Min.   :0.000000   Min.   :0.0e+00  \n",
       " 1st Qu.:        0   1st Qu.:        0   1st Qu.:0.000000   1st Qu.:0.0e+00  \n",
       " Median :   132706   Median :   214661   Median :0.000000   Median :0.0e+00  \n",
       " Mean   :  1100702   Mean   :  1224996   Mean   :0.001291   Mean   :2.5e-06  \n",
       " 3rd Qu.:   943037   3rd Qu.:  1111909   3rd Qu.:0.000000   3rd Qu.:0.0e+00  \n",
       " Max.   :356015889   Max.   :356179279   Max.   :1.000000   Max.   :1.0e+00  \n",
       "                                                                             "
      ]
     },
     "metadata": {},
     "output_type": "display_data"
    }
   ],
   "source": [
    "summary(paysim)"
   ]
  },
  {
   "cell_type": "code",
   "execution_count": 23,
   "metadata": {},
   "outputs": [
    {
     "name": "stdout",
     "output_type": "stream",
     "text": [
      "[1] \"What values are in the type variable? PAYMENT\" \n",
      "[2] \"What values are in the type variable? TRANSFER\"\n",
      "[3] \"What values are in the type variable? CASH_OUT\"\n",
      "[4] \"What values are in the type variable? DEBIT\"   \n",
      "[5] \"What values are in the type variable? CASH_IN\" \n",
      "[1] \"What values are in the isFraud? 0\" \"What values are in the isFraud? 1\"\n",
      "[1] \"What values are in the isFlaggedFraud? 0\"\n",
      "[2] \"What values are in the isFlaggedFraud? 1\"\n"
     ]
    }
   ],
   "source": [
    "# Check the character data types\n",
    "print(paste(\"What values are in the type variable?\", unique(paysim$type)))\n",
    "print(paste(\"What values are in the isFraud?\", unique(paysim$isFraud)))\n",
    "print(paste(\"What values are in the isFlaggedFraud?\", unique(paysim$isFlaggedFraud)))"
   ]
  },
  {
   "cell_type": "markdown",
   "metadata": {},
   "source": [
    "### Handling Missing Values"
   ]
  },
  {
   "cell_type": "code",
   "execution_count": 24,
   "metadata": {},
   "outputs": [
    {
     "name": "stdout",
     "output_type": "stream",
     "text": [
      "[1] \"Are there missing values in the data set? TRUE\"\n"
     ]
    }
   ],
   "source": [
    "# Check for missing values\n",
    "print(paste(\"Are there missing values in the data set?\", any(is.na(paysim))))"
   ]
  },
  {
   "cell_type": "code",
   "execution_count": 25,
   "metadata": {},
   "outputs": [
    {
     "data": {
      "text/html": [
       "<table>\n",
       "<thead><tr><th></th><th scope=col>step</th><th scope=col>type</th><th scope=col>amount</th><th scope=col>nameOrig</th><th scope=col>oldbalanceOrg</th><th scope=col>newbalanceOrig</th><th scope=col>nameDest</th><th scope=col>oldbalanceDest</th><th scope=col>newbalanceDest</th><th scope=col>isFraud</th><th scope=col>isFlaggedFraud</th></tr></thead>\n",
       "<tbody>\n",
       "\t<tr><th scope=row>NA</th><td>NA</td><td>NA</td><td>NA</td><td>NA</td><td>NA</td><td>NA</td><td>NA</td><td>NA</td><td>NA</td><td>NA</td><td>NA</td></tr>\n",
       "\t<tr><th scope=row>NA.1</th><td>NA</td><td>NA</td><td>NA</td><td>NA</td><td>NA</td><td>NA</td><td>NA</td><td>NA</td><td>NA</td><td>NA</td><td>NA</td></tr>\n",
       "\t<tr><th scope=row>NA.2</th><td>NA</td><td>NA</td><td>NA</td><td>NA</td><td>NA</td><td>NA</td><td>NA</td><td>NA</td><td>NA</td><td>NA</td><td>NA</td></tr>\n",
       "\t<tr><th scope=row>NA.3</th><td>NA</td><td>NA</td><td>NA</td><td>NA</td><td>NA</td><td>NA</td><td>NA</td><td>NA</td><td>NA</td><td>NA</td><td>NA</td></tr>\n",
       "\t<tr><th scope=row>NA.4</th><td>NA</td><td>NA</td><td>NA</td><td>NA</td><td>NA</td><td>NA</td><td>NA</td><td>NA</td><td>NA</td><td>NA</td><td>NA</td></tr>\n",
       "\t<tr><th scope=row>NA.5</th><td>NA</td><td>NA</td><td>NA</td><td>NA</td><td>NA</td><td>NA</td><td>NA</td><td>NA</td><td>NA</td><td>NA</td><td>NA</td></tr>\n",
       "\t<tr><th scope=row>NA.6</th><td>NA</td><td>NA</td><td>NA</td><td>NA</td><td>NA</td><td>NA</td><td>NA</td><td>NA</td><td>NA</td><td>NA</td><td>NA</td></tr>\n",
       "\t<tr><th scope=row>NA.7</th><td>NA</td><td>NA</td><td>NA</td><td>NA</td><td>NA</td><td>NA</td><td>NA</td><td>NA</td><td>NA</td><td>NA</td><td>NA</td></tr>\n",
       "\t<tr><th scope=row>NA.8</th><td>NA</td><td>NA</td><td>NA</td><td>NA</td><td>NA</td><td>NA</td><td>NA</td><td>NA</td><td>NA</td><td>NA</td><td>NA</td></tr>\n",
       "\t<tr><th scope=row>NA.9</th><td>NA</td><td>NA</td><td>NA</td><td>NA</td><td>NA</td><td>NA</td><td>NA</td><td>NA</td><td>NA</td><td>NA</td><td>NA</td></tr>\n",
       "</tbody>\n",
       "</table>\n"
      ],
      "text/latex": [
       "\\begin{tabular}{r|lllllllllll}\n",
       "  & step & type & amount & nameOrig & oldbalanceOrg & newbalanceOrig & nameDest & oldbalanceDest & newbalanceDest & isFraud & isFlaggedFraud\\\\\n",
       "\\hline\n",
       "\tNA & NA & NA & NA & NA & NA & NA & NA & NA & NA & NA & NA\\\\\n",
       "\tNA.1 & NA & NA & NA & NA & NA & NA & NA & NA & NA & NA & NA\\\\\n",
       "\tNA.2 & NA & NA & NA & NA & NA & NA & NA & NA & NA & NA & NA\\\\\n",
       "\tNA.3 & NA & NA & NA & NA & NA & NA & NA & NA & NA & NA & NA\\\\\n",
       "\tNA.4 & NA & NA & NA & NA & NA & NA & NA & NA & NA & NA & NA\\\\\n",
       "\tNA.5 & NA & NA & NA & NA & NA & NA & NA & NA & NA & NA & NA\\\\\n",
       "\tNA.6 & NA & NA & NA & NA & NA & NA & NA & NA & NA & NA & NA\\\\\n",
       "\tNA.7 & NA & NA & NA & NA & NA & NA & NA & NA & NA & NA & NA\\\\\n",
       "\tNA.8 & NA & NA & NA & NA & NA & NA & NA & NA & NA & NA & NA\\\\\n",
       "\tNA.9 & NA & NA & NA & NA & NA & NA & NA & NA & NA & NA & NA\\\\\n",
       "\\end{tabular}\n"
      ],
      "text/markdown": [
       "\n",
       "| <!--/--> | step | type | amount | nameOrig | oldbalanceOrg | newbalanceOrig | nameDest | oldbalanceDest | newbalanceDest | isFraud | isFlaggedFraud | \n",
       "|---|---|---|---|---|---|---|---|---|---|\n",
       "| NA | NA | NA | NA | NA | NA | NA | NA | NA | NA | NA | NA | \n",
       "| NA.1 | NA | NA | NA | NA | NA | NA | NA | NA | NA | NA | NA | \n",
       "| NA.2 | NA | NA | NA | NA | NA | NA | NA | NA | NA | NA | NA | \n",
       "| NA.3 | NA | NA | NA | NA | NA | NA | NA | NA | NA | NA | NA | \n",
       "| NA.4 | NA | NA | NA | NA | NA | NA | NA | NA | NA | NA | NA | \n",
       "| NA.5 | NA | NA | NA | NA | NA | NA | NA | NA | NA | NA | NA | \n",
       "| NA.6 | NA | NA | NA | NA | NA | NA | NA | NA | NA | NA | NA | \n",
       "| NA.7 | NA | NA | NA | NA | NA | NA | NA | NA | NA | NA | NA | \n",
       "| NA.8 | NA | NA | NA | NA | NA | NA | NA | NA | NA | NA | NA | \n",
       "| NA.9 | NA | NA | NA | NA | NA | NA | NA | NA | NA | NA | NA | \n",
       "\n",
       "\n"
      ],
      "text/plain": [
       "     step type amount nameOrig oldbalanceOrg newbalanceOrig nameDest\n",
       "NA   NA   NA   NA     NA       NA            NA             NA      \n",
       "NA.1 NA   NA   NA     NA       NA            NA             NA      \n",
       "NA.2 NA   NA   NA     NA       NA            NA             NA      \n",
       "NA.3 NA   NA   NA     NA       NA            NA             NA      \n",
       "NA.4 NA   NA   NA     NA       NA            NA             NA      \n",
       "NA.5 NA   NA   NA     NA       NA            NA             NA      \n",
       "NA.6 NA   NA   NA     NA       NA            NA             NA      \n",
       "NA.7 NA   NA   NA     NA       NA            NA             NA      \n",
       "NA.8 NA   NA   NA     NA       NA            NA             NA      \n",
       "NA.9 NA   NA   NA     NA       NA            NA             NA      \n",
       "     oldbalanceDest newbalanceDest isFraud isFlaggedFraud\n",
       "NA   NA             NA             NA      NA            \n",
       "NA.1 NA             NA             NA      NA            \n",
       "NA.2 NA             NA             NA      NA            \n",
       "NA.3 NA             NA             NA      NA            \n",
       "NA.4 NA             NA             NA      NA            \n",
       "NA.5 NA             NA             NA      NA            \n",
       "NA.6 NA             NA             NA      NA            \n",
       "NA.7 NA             NA             NA      NA            \n",
       "NA.8 NA             NA             NA      NA            \n",
       "NA.9 NA             NA             NA      NA            "
      ]
     },
     "metadata": {},
     "output_type": "display_data"
    }
   ],
   "source": [
    "# Review all entries with missing values\n",
    "paysim[is.na(paysim),]"
   ]
  },
  {
   "cell_type": "code",
   "execution_count": 26,
   "metadata": {},
   "outputs": [
    {
     "data": {
      "text/html": [
       "<table>\n",
       "<thead><tr><th></th><th scope=col>step</th><th scope=col>type</th><th scope=col>amount</th><th scope=col>nameOrig</th><th scope=col>oldbalanceOrg</th><th scope=col>newbalanceOrig</th><th scope=col>nameDest</th><th scope=col>oldbalanceDest</th><th scope=col>newbalanceDest</th><th scope=col>isFraud</th><th scope=col>isFlaggedFraud</th></tr></thead>\n",
       "<tbody>\n",
       "\t<tr><th scope=row>3</th><td>1          </td><td>TRANSFER   </td><td> 181.00    </td><td>C1305486145</td><td>   181.0   </td><td>     0.00  </td><td>C553264065 </td><td>    0      </td><td>     0.00  </td><td>1          </td><td>0          </td></tr>\n",
       "\t<tr><th scope=row>4</th><td>1          </td><td>CASH_OUT   </td><td> 181.00    </td><td>C840083671 </td><td>   181.0   </td><td>     0.00  </td><td>C38997010  </td><td>21182      </td><td>     0.00  </td><td>1          </td><td>0          </td></tr>\n",
       "\t<tr><th scope=row>8</th><td>1          </td><td>PAYMENT    </td><td>7861.64    </td><td>C1912850431</td><td>176087.2   </td><td>168225.59  </td><td>M633326333 </td><td>    0      </td><td>     0.00  </td><td>0          </td><td>0          </td></tr>\n",
       "\t<tr><th scope=row>9</th><td>1          </td><td>PAYMENT    </td><td>4024.36    </td><td>C1265012928</td><td>  2671.0   </td><td>     0.00  </td><td>M1176932104</td><td>    0      </td><td>     0.00  </td><td>0          </td><td>0          </td></tr>\n",
       "\t<tr><th scope=row>10</th><td>1          </td><td>DEBIT      </td><td>5337.77    </td><td>C712410124 </td><td> 41720.0   </td><td> 36382.23  </td><td>C195600860 </td><td>41898      </td><td> 40348.79  </td><td>0          </td><td>0          </td></tr>\n",
       "\t<tr><th scope=row>11</th><td>1          </td><td>DEBIT      </td><td>9644.94    </td><td>C1900366749</td><td>  4465.0   </td><td>     0.00  </td><td>C997608398 </td><td>10845      </td><td>157982.12  </td><td>0          </td><td>0          </td></tr>\n",
       "</tbody>\n",
       "</table>\n"
      ],
      "text/latex": [
       "\\begin{tabular}{r|lllllllllll}\n",
       "  & step & type & amount & nameOrig & oldbalanceOrg & newbalanceOrig & nameDest & oldbalanceDest & newbalanceDest & isFraud & isFlaggedFraud\\\\\n",
       "\\hline\n",
       "\t3 & 1           & TRANSFER    &  181.00     & C1305486145 &    181.0    &      0.00   & C553264065  &     0       &      0.00   & 1           & 0          \\\\\n",
       "\t4 & 1           & CASH\\_OUT  &  181.00     & C840083671  &    181.0    &      0.00   & C38997010   & 21182       &      0.00   & 1           & 0          \\\\\n",
       "\t8 & 1           & PAYMENT     & 7861.64     & C1912850431 & 176087.2    & 168225.59   & M633326333  &     0       &      0.00   & 0           & 0          \\\\\n",
       "\t9 & 1           & PAYMENT     & 4024.36     & C1265012928 &   2671.0    &      0.00   & M1176932104 &     0       &      0.00   & 0           & 0          \\\\\n",
       "\t10 & 1           & DEBIT       & 5337.77     & C712410124  &  41720.0    &  36382.23   & C195600860  & 41898       &  40348.79   & 0           & 0          \\\\\n",
       "\t11 & 1           & DEBIT       & 9644.94     & C1900366749 &   4465.0    &      0.00   & C997608398  & 10845       & 157982.12   & 0           & 0          \\\\\n",
       "\\end{tabular}\n"
      ],
      "text/markdown": [
       "\n",
       "| <!--/--> | step | type | amount | nameOrig | oldbalanceOrg | newbalanceOrig | nameDest | oldbalanceDest | newbalanceDest | isFraud | isFlaggedFraud | \n",
       "|---|---|---|---|---|---|\n",
       "| 3 | 1           | TRANSFER    |  181.00     | C1305486145 |    181.0    |      0.00   | C553264065  |     0       |      0.00   | 1           | 0           | \n",
       "| 4 | 1           | CASH_OUT    |  181.00     | C840083671  |    181.0    |      0.00   | C38997010   | 21182       |      0.00   | 1           | 0           | \n",
       "| 8 | 1           | PAYMENT     | 7861.64     | C1912850431 | 176087.2    | 168225.59   | M633326333  |     0       |      0.00   | 0           | 0           | \n",
       "| 9 | 1           | PAYMENT     | 4024.36     | C1265012928 |   2671.0    |      0.00   | M1176932104 |     0       |      0.00   | 0           | 0           | \n",
       "| 10 | 1           | DEBIT       | 5337.77     | C712410124  |  41720.0    |  36382.23   | C195600860  | 41898       |  40348.79   | 0           | 0           | \n",
       "| 11 | 1           | DEBIT       | 9644.94     | C1900366749 |   4465.0    |      0.00   | C997608398  | 10845       | 157982.12   | 0           | 0           | \n",
       "\n",
       "\n"
      ],
      "text/plain": [
       "   step type     amount  nameOrig    oldbalanceOrg newbalanceOrig nameDest   \n",
       "3  1    TRANSFER  181.00 C1305486145    181.0           0.00      C553264065 \n",
       "4  1    CASH_OUT  181.00 C840083671     181.0           0.00      C38997010  \n",
       "8  1    PAYMENT  7861.64 C1912850431 176087.2      168225.59      M633326333 \n",
       "9  1    PAYMENT  4024.36 C1265012928   2671.0           0.00      M1176932104\n",
       "10 1    DEBIT    5337.77 C712410124   41720.0       36382.23      C195600860 \n",
       "11 1    DEBIT    9644.94 C1900366749   4465.0           0.00      C997608398 \n",
       "   oldbalanceDest newbalanceDest isFraud isFlaggedFraud\n",
       "3      0               0.00      1       0             \n",
       "4  21182               0.00      1       0             \n",
       "8      0               0.00      0       0             \n",
       "9      0               0.00      0       0             \n",
       "10 41898           40348.79      0       0             \n",
       "11 10845          157982.12      0       0             "
      ]
     },
     "metadata": {},
     "output_type": "display_data"
    }
   ],
   "source": [
    "paysim <- na.omit(paysim)\n",
    "head(paysim)"
   ]
  },
  {
   "cell_type": "markdown",
   "metadata": {},
   "source": [
    "### Transforming Categorical Variables"
   ]
  },
  {
   "cell_type": "code",
   "execution_count": 27,
   "metadata": {},
   "outputs": [
    {
     "data": {
      "text/html": [
       "<table>\n",
       "<thead><tr><th></th><th scope=col>step</th><th scope=col>type</th><th scope=col>amount</th><th scope=col>nameOrig</th><th scope=col>oldbalanceOrg</th><th scope=col>newbalanceOrig</th><th scope=col>nameDest</th><th scope=col>oldbalanceDest</th><th scope=col>newbalanceDest</th><th scope=col>isFraud</th><th scope=col>isFlaggedFraud</th><th scope=col>TRANSFER</th><th scope=col>PAYMENT</th><th scope=col>CASH_OUT</th><th scope=col>DEBIT</th><th scope=col>CASH_IN</th></tr></thead>\n",
       "<tbody>\n",
       "\t<tr><th scope=row>3</th><td>1          </td><td>TRANSFER   </td><td> 181.00    </td><td>C1305486145</td><td>   181.0   </td><td>     0.00  </td><td>C553264065 </td><td>    0      </td><td>     0.00  </td><td>1          </td><td>0          </td><td>1          </td><td>0          </td><td>0          </td><td>0          </td><td>0          </td></tr>\n",
       "\t<tr><th scope=row>4</th><td>1          </td><td>CASH_OUT   </td><td> 181.00    </td><td>C840083671 </td><td>   181.0   </td><td>     0.00  </td><td>C38997010  </td><td>21182      </td><td>     0.00  </td><td>1          </td><td>0          </td><td>0          </td><td>0          </td><td>1          </td><td>0          </td><td>0          </td></tr>\n",
       "\t<tr><th scope=row>8</th><td>1          </td><td>PAYMENT    </td><td>7861.64    </td><td>C1912850431</td><td>176087.2   </td><td>168225.59  </td><td>M633326333 </td><td>    0      </td><td>     0.00  </td><td>0          </td><td>0          </td><td>0          </td><td>1          </td><td>0          </td><td>0          </td><td>0          </td></tr>\n",
       "\t<tr><th scope=row>9</th><td>1          </td><td>PAYMENT    </td><td>4024.36    </td><td>C1265012928</td><td>  2671.0   </td><td>     0.00  </td><td>M1176932104</td><td>    0      </td><td>     0.00  </td><td>0          </td><td>0          </td><td>0          </td><td>1          </td><td>0          </td><td>0          </td><td>0          </td></tr>\n",
       "\t<tr><th scope=row>10</th><td>1          </td><td>DEBIT      </td><td>5337.77    </td><td>C712410124 </td><td> 41720.0   </td><td> 36382.23  </td><td>C195600860 </td><td>41898      </td><td> 40348.79  </td><td>0          </td><td>0          </td><td>0          </td><td>0          </td><td>0          </td><td>1          </td><td>0          </td></tr>\n",
       "\t<tr><th scope=row>11</th><td>1          </td><td>DEBIT      </td><td>9644.94    </td><td>C1900366749</td><td>  4465.0   </td><td>     0.00  </td><td>C997608398 </td><td>10845      </td><td>157982.12  </td><td>0          </td><td>0          </td><td>0          </td><td>0          </td><td>0          </td><td>1          </td><td>0          </td></tr>\n",
       "</tbody>\n",
       "</table>\n"
      ],
      "text/latex": [
       "\\begin{tabular}{r|llllllllllllllll}\n",
       "  & step & type & amount & nameOrig & oldbalanceOrg & newbalanceOrig & nameDest & oldbalanceDest & newbalanceDest & isFraud & isFlaggedFraud & TRANSFER & PAYMENT & CASH\\_OUT & DEBIT & CASH\\_IN\\\\\n",
       "\\hline\n",
       "\t3 & 1           & TRANSFER    &  181.00     & C1305486145 &    181.0    &      0.00   & C553264065  &     0       &      0.00   & 1           & 0           & 1           & 0           & 0           & 0           & 0          \\\\\n",
       "\t4 & 1           & CASH\\_OUT  &  181.00     & C840083671  &    181.0    &      0.00   & C38997010   & 21182       &      0.00   & 1           & 0           & 0           & 0           & 1           & 0           & 0          \\\\\n",
       "\t8 & 1           & PAYMENT     & 7861.64     & C1912850431 & 176087.2    & 168225.59   & M633326333  &     0       &      0.00   & 0           & 0           & 0           & 1           & 0           & 0           & 0          \\\\\n",
       "\t9 & 1           & PAYMENT     & 4024.36     & C1265012928 &   2671.0    &      0.00   & M1176932104 &     0       &      0.00   & 0           & 0           & 0           & 1           & 0           & 0           & 0          \\\\\n",
       "\t10 & 1           & DEBIT       & 5337.77     & C712410124  &  41720.0    &  36382.23   & C195600860  & 41898       &  40348.79   & 0           & 0           & 0           & 0           & 0           & 1           & 0          \\\\\n",
       "\t11 & 1           & DEBIT       & 9644.94     & C1900366749 &   4465.0    &      0.00   & C997608398  & 10845       & 157982.12   & 0           & 0           & 0           & 0           & 0           & 1           & 0          \\\\\n",
       "\\end{tabular}\n"
      ],
      "text/markdown": [
       "\n",
       "| <!--/--> | step | type | amount | nameOrig | oldbalanceOrg | newbalanceOrig | nameDest | oldbalanceDest | newbalanceDest | isFraud | isFlaggedFraud | TRANSFER | PAYMENT | CASH_OUT | DEBIT | CASH_IN | \n",
       "|---|---|---|---|---|---|\n",
       "| 3 | 1           | TRANSFER    |  181.00     | C1305486145 |    181.0    |      0.00   | C553264065  |     0       |      0.00   | 1           | 0           | 1           | 0           | 0           | 0           | 0           | \n",
       "| 4 | 1           | CASH_OUT    |  181.00     | C840083671  |    181.0    |      0.00   | C38997010   | 21182       |      0.00   | 1           | 0           | 0           | 0           | 1           | 0           | 0           | \n",
       "| 8 | 1           | PAYMENT     | 7861.64     | C1912850431 | 176087.2    | 168225.59   | M633326333  |     0       |      0.00   | 0           | 0           | 0           | 1           | 0           | 0           | 0           | \n",
       "| 9 | 1           | PAYMENT     | 4024.36     | C1265012928 |   2671.0    |      0.00   | M1176932104 |     0       |      0.00   | 0           | 0           | 0           | 1           | 0           | 0           | 0           | \n",
       "| 10 | 1           | DEBIT       | 5337.77     | C712410124  |  41720.0    |  36382.23   | C195600860  | 41898       |  40348.79   | 0           | 0           | 0           | 0           | 0           | 1           | 0           | \n",
       "| 11 | 1           | DEBIT       | 9644.94     | C1900366749 |   4465.0    |      0.00   | C997608398  | 10845       | 157982.12   | 0           | 0           | 0           | 0           | 0           | 1           | 0           | \n",
       "\n",
       "\n"
      ],
      "text/plain": [
       "   step type     amount  nameOrig    oldbalanceOrg newbalanceOrig nameDest   \n",
       "3  1    TRANSFER  181.00 C1305486145    181.0           0.00      C553264065 \n",
       "4  1    CASH_OUT  181.00 C840083671     181.0           0.00      C38997010  \n",
       "8  1    PAYMENT  7861.64 C1912850431 176087.2      168225.59      M633326333 \n",
       "9  1    PAYMENT  4024.36 C1265012928   2671.0           0.00      M1176932104\n",
       "10 1    DEBIT    5337.77 C712410124   41720.0       36382.23      C195600860 \n",
       "11 1    DEBIT    9644.94 C1900366749   4465.0           0.00      C997608398 \n",
       "   oldbalanceDest newbalanceDest isFraud isFlaggedFraud TRANSFER PAYMENT\n",
       "3      0               0.00      1       0              1        0      \n",
       "4  21182               0.00      1       0              0        0      \n",
       "8      0               0.00      0       0              0        1      \n",
       "9      0               0.00      0       0              0        1      \n",
       "10 41898           40348.79      0       0              0        0      \n",
       "11 10845          157982.12      0       0              0        0      \n",
       "   CASH_OUT DEBIT CASH_IN\n",
       "3  0        0     0      \n",
       "4  1        0     0      \n",
       "8  0        0     0      \n",
       "9  0        0     0      \n",
       "10 0        1     0      \n",
       "11 0        1     0      "
      ]
     },
     "metadata": {},
     "output_type": "display_data"
    }
   ],
   "source": [
    "# Create binary from categorical type variable\n",
    "# We just have one categorical value that needs transforming\n",
    "\n",
    "paysim2 <- paysim\n",
    "paysim3 <- paysim$type\n",
    "\n",
    "TRANSFER <- gsub(\"TRANSFER\",1,as.character(paysim3))\n",
    "TRANSFER <- gsub(\"(PAYMENT)|(CASH_OUT)|(DEBIT)|(CASH_IN)\",0,TRANSFER)\n",
    "paysim2 <- cbind(paysim2,TRANSFER)\n",
    "\n",
    "PAYMENT <- gsub(\"PAYMENT\",1,as.character(paysim3))\n",
    "PAYMENT <- gsub(\"(TRANSFER)|(CASH_OUT)|(DEBIT)|(CASH_IN)\",0,PAYMENT)\n",
    "paysim2 <- cbind(paysim2,PAYMENT)\n",
    "\n",
    "CASH_OUT <- gsub(\"CASH_OUT\",1,as.character(paysim3))\n",
    "CASH_OUT <- gsub(\"(TRANSFER)|(PAYMENT)|(DEBIT)|(CASH_IN)\",0,CASH_OUT)\n",
    "paysim2 <- cbind(paysim2,CASH_OUT)\n",
    "\n",
    "DEBIT <- gsub(\"DEBIT\",1,as.character(paysim3))\n",
    "DEBIT <- gsub(\"(TRANSFER)|(PAYMENT)|(CASH_OUT)|(CASH_IN)\",0,DEBIT)\n",
    "paysim2 <- cbind(paysim2,DEBIT)\n",
    "\n",
    "CASH_IN <- gsub(\"CASH_IN\",1,as.character(paysim3))\n",
    "CASH_IN <- gsub(\"(TRANSFER)|(PAYMENT)|(CASH_OUT)|(DEBIT)\",0,CASH_IN)\n",
    "paysim2 <- cbind(paysim2,CASH_IN)\n",
    "\n",
    "paysim <- paysim2\n",
    "\n",
    "head(paysim)"
   ]
  },
  {
   "cell_type": "markdown",
   "metadata": {},
   "source": [
    "### Identifying Outliers"
   ]
  },
  {
   "cell_type": "code",
   "execution_count": 39,
   "metadata": {},
   "outputs": [
    {
     "data": {},
     "metadata": {},
     "output_type": "display_data"
    },
    {
     "data": {
      "image/png": "[encoded data removed]",
      "text/plain": [
       "plot without title"
      ]
     },
     "metadata": {},
     "output_type": "display_data"
    }
   ],
   "source": [
    "# Let's review one variable before setting up the rest of the histograms\n",
    "ggplot(paysim, aes(amount)) + geom_histogram(bins = 20, binwidth = 10000) +\n",
    "    xlim(0, 25000000) + ylim(0,20000) "
   ]
  },
  {
   "cell_type": "markdown",
   "metadata": {},
   "source": [
    "### Correlation Review"
   ]
  },
  {
   "cell_type": "code",
   "execution_count": 29,
   "metadata": {},
   "outputs": [
    {
     "data": {},
     "metadata": {},
     "output_type": "display_data"
    },
    {
     "data": {
      "image/png": "[encoded data removed]",
      "text/plain": [
       "plot without title"
      ]
     },
     "metadata": {},
     "output_type": "display_data"
    }
   ],
   "source": [
    "# Get correlations\n",
    "cor_paysim <- round(cor(paysim[c(\"amount\",\"oldbalanceOrg\",\"newbalanceOrig\",\"oldbalanceDest\",\"newbalanceDest\")]),4)\n",
    "melted_cor_paysim <- melt(cor_paysim)\n",
    "\n",
    "ggplot(melted_cor_paysim, aes(x = Var1, y= reorder(Var2, desc(Var2)), fill = value)) +\n",
    "  geom_tile() +\n",
    "  theme_minimal() +\n",
    "  geom_text(aes(color = value > .6, label = round(value,3))) +\n",
    "  scale_color_manual(guide = FALSE, values = c(\"white\",\"black\")) +\n",
    "  scale_fill_gradient2(low = \"#35193e\",mid = \"#bc1656\", high=\"#faebdd\", midpoint = .5) +\n",
    "  xlab(element_blank()) + ylab(element_blank()) +\n",
    "  theme(axis.text.x = element_text(angle = 90), legend.title = element_blank())"
   ]
  },
  {
   "cell_type": "markdown",
   "metadata": {},
   "source": [
    "## 3. Data Transformation\n",
    "### Normalization"
   ]
  },
  {
   "cell_type": "code",
   "execution_count": 32,
   "metadata": {},
   "outputs": [],
   "source": [
    "normalize2 <- function(x) {\n",
    "  return((x - min(x)) / (max(x) - min(x)))\n",
    "}"
   ]
  },
  {
   "cell_type": "code",
   "execution_count": 33,
   "metadata": {},
   "outputs": [
    {
     "data": {
      "text/html": [
       "<table>\n",
       "<thead><tr><th></th><th scope=col>step</th><th scope=col>type</th><th scope=col>amount</th><th scope=col>nameOrig</th><th scope=col>oldbalanceOrg</th><th scope=col>newbalanceOrig</th><th scope=col>nameDest</th><th scope=col>oldbalanceDest</th><th scope=col>newbalanceDest</th><th scope=col>isFraud</th><th scope=col>...</th><th scope=col>TRANSFER</th><th scope=col>PAYMENT</th><th scope=col>CASH_OUT</th><th scope=col>DEBIT</th><th scope=col>CASH_IN</th><th scope=col>normamount</th><th scope=col>normoldbalanceOrg</th><th scope=col>normnewbalanceOrig</th><th scope=col>normoldbalanceDest</th><th scope=col>normnewbalanceDest</th></tr></thead>\n",
       "<tbody>\n",
       "\t<tr><th scope=row>3</th><td>1           </td><td>TRANSFER    </td><td> 181.00     </td><td>C1305486145 </td><td>   181.0    </td><td>     0.00   </td><td>C553264065  </td><td>    0       </td><td>     0.00   </td><td>1           </td><td>...         </td><td>1           </td><td>0           </td><td>0           </td><td>0           </td><td>0           </td><td>1.957910e-06</td><td>3.037675e-06</td><td>0.000000000 </td><td>0.000000e+00</td><td>0.0000000000</td></tr>\n",
       "\t<tr><th scope=row>4</th><td>1           </td><td>CASH_OUT    </td><td> 181.00     </td><td>C840083671  </td><td>   181.0    </td><td>     0.00   </td><td>C38997010   </td><td>21182       </td><td>     0.00   </td><td>1           </td><td>...         </td><td>0           </td><td>0           </td><td>1           </td><td>0           </td><td>0           </td><td>1.957910e-06</td><td>3.037675e-06</td><td>0.000000000 </td><td>5.949734e-05</td><td>0.0000000000</td></tr>\n",
       "\t<tr><th scope=row>8</th><td>1           </td><td>PAYMENT     </td><td>7861.64     </td><td>C1912850431 </td><td>176087.2    </td><td>168225.59   </td><td>M633326333  </td><td>    0       </td><td>     0.00   </td><td>0           </td><td>...         </td><td>0           </td><td>1           </td><td>0           </td><td>0           </td><td>0           </td><td>8.504079e-05</td><td>2.955225e-03</td><td>0.003392668 </td><td>0.000000e+00</td><td>0.0000000000</td></tr>\n",
       "\t<tr><th scope=row>9</th><td>1           </td><td>PAYMENT     </td><td>4024.36     </td><td>C1265012928 </td><td>  2671.0    </td><td>     0.00   </td><td>M1176932104 </td><td>    0       </td><td>     0.00   </td><td>0           </td><td>...         </td><td>0           </td><td>1           </td><td>0           </td><td>0           </td><td>0           </td><td>4.353224e-05</td><td>4.482669e-05</td><td>0.000000000 </td><td>0.000000e+00</td><td>0.0000000000</td></tr>\n",
       "\t<tr><th scope=row>10</th><td>1           </td><td>DEBIT       </td><td>5337.77     </td><td>C712410124  </td><td> 41720.0    </td><td> 36382.23   </td><td>C195600860  </td><td>41898       </td><td> 40348.79   </td><td>0           </td><td>...         </td><td>0           </td><td>0           </td><td>0           </td><td>1           </td><td>0           </td><td>5.773963e-05</td><td>7.001757e-04</td><td>0.000733734 </td><td>1.176858e-04</td><td>0.0001132822</td></tr>\n",
       "\t<tr><th scope=row>11</th><td>1           </td><td>DEBIT       </td><td>9644.94     </td><td>C1900366749 </td><td>  4465.0    </td><td>     0.00   </td><td>C997608398  </td><td>10845       </td><td>157982.12   </td><td>0           </td><td>...         </td><td>0           </td><td>0           </td><td>0           </td><td>1           </td><td>0           </td><td>1.043311e-04</td><td>7.493492e-05</td><td>0.000000000 </td><td>3.046212e-05</td><td>0.0004435466</td></tr>\n",
       "</tbody>\n",
       "</table>\n"
      ],
      "text/latex": [
       "\\begin{tabular}{r|lllllllllllllllllllll}\n",
       "  & step & type & amount & nameOrig & oldbalanceOrg & newbalanceOrig & nameDest & oldbalanceDest & newbalanceDest & isFraud & ... & TRANSFER & PAYMENT & CASH\\_OUT & DEBIT & CASH\\_IN & normamount & normoldbalanceOrg & normnewbalanceOrig & normoldbalanceDest & normnewbalanceDest\\\\\n",
       "\\hline\n",
       "\t3 & 1            & TRANSFER     &  181.00      & C1305486145  &    181.0     &      0.00    & C553264065   &     0        &      0.00    & 1            & ...          & 1            & 0            & 0            & 0            & 0            & 1.957910e-06 & 3.037675e-06 & 0.000000000  & 0.000000e+00 & 0.0000000000\\\\\n",
       "\t4 & 1            & CASH\\_OUT   &  181.00      & C840083671   &    181.0     &      0.00    & C38997010    & 21182        &      0.00    & 1            & ...          & 0            & 0            & 1            & 0            & 0            & 1.957910e-06 & 3.037675e-06 & 0.000000000  & 5.949734e-05 & 0.0000000000\\\\\n",
       "\t8 & 1            & PAYMENT      & 7861.64      & C1912850431  & 176087.2     & 168225.59    & M633326333   &     0        &      0.00    & 0            & ...          & 0            & 1            & 0            & 0            & 0            & 8.504079e-05 & 2.955225e-03 & 0.003392668  & 0.000000e+00 & 0.0000000000\\\\\n",
       "\t9 & 1            & PAYMENT      & 4024.36      & C1265012928  &   2671.0     &      0.00    & M1176932104  &     0        &      0.00    & 0            & ...          & 0            & 1            & 0            & 0            & 0            & 4.353224e-05 & 4.482669e-05 & 0.000000000  & 0.000000e+00 & 0.0000000000\\\\\n",
       "\t10 & 1            & DEBIT        & 5337.77      & C712410124   &  41720.0     &  36382.23    & C195600860   & 41898        &  40348.79    & 0            & ...          & 0            & 0            & 0            & 1            & 0            & 5.773963e-05 & 7.001757e-04 & 0.000733734  & 1.176858e-04 & 0.0001132822\\\\\n",
       "\t11 & 1            & DEBIT        & 9644.94      & C1900366749  &   4465.0     &      0.00    & C997608398   & 10845        & 157982.12    & 0            & ...          & 0            & 0            & 0            & 1            & 0            & 1.043311e-04 & 7.493492e-05 & 0.000000000  & 3.046212e-05 & 0.0004435466\\\\\n",
       "\\end{tabular}\n"
      ],
      "text/markdown": [
       "\n",
       "| <!--/--> | step | type | amount | nameOrig | oldbalanceOrg | newbalanceOrig | nameDest | oldbalanceDest | newbalanceDest | isFraud | ... | TRANSFER | PAYMENT | CASH_OUT | DEBIT | CASH_IN | normamount | normoldbalanceOrg | normnewbalanceOrig | normoldbalanceDest | normnewbalanceDest | \n",
       "|---|---|---|---|---|---|\n",
       "| 3 | 1            | TRANSFER     |  181.00      | C1305486145  |    181.0     |      0.00    | C553264065   |     0        |      0.00    | 1            | ...          | 1            | 0            | 0            | 0            | 0            | 1.957910e-06 | 3.037675e-06 | 0.000000000  | 0.000000e+00 | 0.0000000000 | \n",
       "| 4 | 1            | CASH_OUT     |  181.00      | C840083671   |    181.0     |      0.00    | C38997010    | 21182        |      0.00    | 1            | ...          | 0            | 0            | 1            | 0            | 0            | 1.957910e-06 | 3.037675e-06 | 0.000000000  | 5.949734e-05 | 0.0000000000 | \n",
       "| 8 | 1            | PAYMENT      | 7861.64      | C1912850431  | 176087.2     | 168225.59    | M633326333   |     0        |      0.00    | 0            | ...          | 0            | 1            | 0            | 0            | 0            | 8.504079e-05 | 2.955225e-03 | 0.003392668  | 0.000000e+00 | 0.0000000000 | \n",
       "| 9 | 1            | PAYMENT      | 4024.36      | C1265012928  |   2671.0     |      0.00    | M1176932104  |     0        |      0.00    | 0            | ...          | 0            | 1            | 0            | 0            | 0            | 4.353224e-05 | 4.482669e-05 | 0.000000000  | 0.000000e+00 | 0.0000000000 | \n",
       "| 10 | 1            | DEBIT        | 5337.77      | C712410124   |  41720.0     |  36382.23    | C195600860   | 41898        |  40348.79    | 0            | ...          | 0            | 0            | 0            | 1            | 0            | 5.773963e-05 | 7.001757e-04 | 0.000733734  | 1.176858e-04 | 0.0001132822 | \n",
       "| 11 | 1            | DEBIT        | 9644.94      | C1900366749  |   4465.0     |      0.00    | C997608398   | 10845        | 157982.12    | 0            | ...          | 0            | 0            | 0            | 1            | 0            | 1.043311e-04 | 7.493492e-05 | 0.000000000  | 3.046212e-05 | 0.0004435466 | \n",
       "\n",
       "\n"
      ],
      "text/plain": [
       "   step type     amount  nameOrig    oldbalanceOrg newbalanceOrig nameDest   \n",
       "3  1    TRANSFER  181.00 C1305486145    181.0           0.00      C553264065 \n",
       "4  1    CASH_OUT  181.00 C840083671     181.0           0.00      C38997010  \n",
       "8  1    PAYMENT  7861.64 C1912850431 176087.2      168225.59      M633326333 \n",
       "9  1    PAYMENT  4024.36 C1265012928   2671.0           0.00      M1176932104\n",
       "10 1    DEBIT    5337.77 C712410124   41720.0       36382.23      C195600860 \n",
       "11 1    DEBIT    9644.94 C1900366749   4465.0           0.00      C997608398 \n",
       "   oldbalanceDest newbalanceDest isFraud ... TRANSFER PAYMENT CASH_OUT DEBIT\n",
       "3      0               0.00      1       ... 1        0       0        0    \n",
       "4  21182               0.00      1       ... 0        0       1        0    \n",
       "8      0               0.00      0       ... 0        1       0        0    \n",
       "9      0               0.00      0       ... 0        1       0        0    \n",
       "10 41898           40348.79      0       ... 0        0       0        1    \n",
       "11 10845          157982.12      0       ... 0        0       0        1    \n",
       "   CASH_IN normamount   normoldbalanceOrg normnewbalanceOrig normoldbalanceDest\n",
       "3  0       1.957910e-06 3.037675e-06      0.000000000        0.000000e+00      \n",
       "4  0       1.957910e-06 3.037675e-06      0.000000000        5.949734e-05      \n",
       "8  0       8.504079e-05 2.955225e-03      0.003392668        0.000000e+00      \n",
       "9  0       4.353224e-05 4.482669e-05      0.000000000        0.000000e+00      \n",
       "10 0       5.773963e-05 7.001757e-04      0.000733734        1.176858e-04      \n",
       "11 0       1.043311e-04 7.493492e-05      0.000000000        3.046212e-05      \n",
       "   normnewbalanceDest\n",
       "3  0.0000000000      \n",
       "4  0.0000000000      \n",
       "8  0.0000000000      \n",
       "9  0.0000000000      \n",
       "10 0.0001132822      \n",
       "11 0.0004435466      "
      ]
     },
     "metadata": {},
     "output_type": "display_data"
    }
   ],
   "source": [
    "normvars <- vector()\n",
    "normvars[c(\"normamount\",\"normoldbalanceOrg\",\n",
    "           \"normnewbalanceOrig\",\"normoldbalanceDest\",\n",
    "           \"normnewbalanceDest\")] <- lapply(paysim[c(\"amount\",\"oldbalanceOrg\",\"newbalanceOrig\",\"oldbalanceDest\",\"newbalanceDest\")], normalize2)\n",
    "paysim <- cbind(paysim, normvars)\n",
    "\n",
    "head(paysim)"
   ]
  },
  {
   "cell_type": "markdown",
   "metadata": {},
   "source": [
    "## 4. Prepare Data Sets"
   ]
  },
  {
   "cell_type": "code",
   "execution_count": 34,
   "metadata": {},
   "outputs": [],
   "source": [
    "# Select only the relevant variables\n",
    "X2 <- paysim[c(\"normamount\",\"normoldbalanceOrg\",\"normnewbalanceOrig\",\n",
    "                         \"normoldbalanceDest\",\"normnewbalanceDest\",\"PAYMENT\",\n",
    "                         \"TRANSFER\",\"CASH_OUT\", \"DEBIT\", \"CASH_IN\", \"isFraud\")]"
   ]
  },
  {
   "cell_type": "markdown",
   "metadata": {},
   "source": [
    "### K-folds Cross-Validation"
   ]
  },
  {
   "cell_type": "code",
   "execution_count": 35,
   "metadata": {},
   "outputs": [],
   "source": [
    "kf <- createFolds(X2$isFraud, k = 10)"
   ]
  },
  {
   "cell_type": "markdown",
   "metadata": {},
   "source": [
    "## 5. Modeling and Testing\n",
    "### Creating the Logistic Regression Model"
   ]
  },
  {
   "cell_type": "code",
   "execution_count": 37,
   "metadata": {},
   "outputs": [
    {
     "name": "stdout",
     "output_type": "stream",
     "text": [
      "[1] \"Fold 1 Results:\"\n",
      "[1] \"Accuracy: 0.999250307656763\"\n",
      "[1] \"Precision: 0.884057971014493\"\n",
      "[1] \"Recall: 0.460377358490566\"\n",
      "[1] \"F1: 0.60545905707196\"\n",
      "[1] \"Fold 2 Results:\"\n",
      "[1] \"Accuracy: 0.999233020359537\"\n",
      "[1] \"Precision: 0.894396551724138\"\n",
      "[1] \"Recall: 0.485948477751756\"\n",
      "[1] \"F1: 0.629742033383915\"\n",
      "[1] \"Fold 3 Results:\"\n",
      "[1] \"Accuracy: 0.999261310592177\"\n",
      "[1] \"Precision: 0.88755980861244\"\n",
      "[1] \"Recall: 0.467254408060453\"\n",
      "[1] \"F1: 0.612211221122112\"\n",
      "[1] \"Fold 4 Results:\"\n",
      "[1] \"Accuracy: 0.999218874015538\"\n",
      "[1] \"Precision: 0.914549653579677\"\n",
      "[1] \"Recall: 0.462616822429907\"\n",
      "[1] \"F1: 0.614429790535299\"\n",
      "[1] \"Fold 5 Results:\"\n",
      "[1] \"Accuracy: 0.999187441651395\"\n",
      "[1] \"Precision: 0.871733966745843\"\n",
      "[1] \"Recall: 0.442168674698795\"\n",
      "[1] \"F1: 0.586730615507594\"\n",
      "[1] \"Fold 6 Results:\"\n",
      "[1] \"Accuracy: 0.999283312980051\"\n",
      "[1] \"Precision: 0.880487804878049\"\n",
      "[1] \"Recall: 0.470052083333333\"\n",
      "[1] \"F1: 0.612903225806452\"\n",
      "[1] \"Fold 7 Results:\"\n",
      "[1] \"Accuracy: 0.999239307077902\"\n",
      "[1] \"Precision: 0.875930521091811\"\n",
      "[1] \"Recall: 0.44853875476493\"\n",
      "[1] \"F1: 0.59327731092437\"\n",
      "[1] \"Fold 8 Results:\"\n",
      "[1] \"Accuracy: 0.999225160743783\"\n",
      "[1] \"Precision: 0.891592920353982\"\n",
      "[1] \"Recall: 0.475796930342385\"\n",
      "[1] \"F1: 0.620477290223249\"\n",
      "[1] \"Fold 9 Results:\"\n",
      "[1] \"Accuracy: 0.999218874015538\"\n",
      "[1] \"Precision: 0.872527472527473\"\n",
      "[1] \"Recall: 0.47488038277512\"\n",
      "[1] \"F1: 0.615027110766847\"\n",
      "[1] \"Fold 10 Results:\"\n",
      "[1] \"Accuracy: 0.999211016845262\"\n",
      "[1] \"Precision: 0.887387387387387\"\n",
      "[1] \"Recall: 0.465721040189125\"\n",
      "[1] \"F1: 0.610852713178295\"\n"
     ]
    }
   ],
   "source": [
    "counter <- 1\n",
    "cv = lapply(kf, function(x) {\n",
    "  # Establishes the training and testing folds\n",
    "  training_fold = X2[-x,]\n",
    "  test_fold = X2[x,]\n",
    "  # Constructing model\n",
    "  model <- glm(isFraud ~. ,family = binomial, data=training_fold)\n",
    "  pred <- round(predict(model, newdata = test_fold, type = \"response\"),0)\n",
    "  \n",
    "  # Evaluating the Logistic Regression Model\n",
    "  accuracy = accuracy(test_fold$isFraud, pred)\n",
    "  precision = precision(test_fold$isFraud, pred)\n",
    "  recall = recall(test_fold$isFraud, pred)\n",
    "  f1 = (2*precision*recall)/(precision + recall)\n",
    "  print(paste(\"Fold\",counter,\"Results:\"))\n",
    "  print(paste(\"Accuracy:\",accuracy))\n",
    "  print(paste(\"Precision:\",precision))\n",
    "  print(paste(\"Recall:\",recall))\n",
    "  print(paste(\"F1:\",f1))\n",
    "  counter <<- counter + 1\n",
    "})"
   ]
  },
  {
   "cell_type": "markdown",
   "metadata": {},
   "source": [
    "## 7. Hyperparameter Tuning\n",
    "The number of folds is a hyperparameter that we can use to train our model. We are going to test k= 5 and k = 15.\n",
    "### K = 5"
   ]
  },
  {
   "cell_type": "code",
   "execution_count": 42,
   "metadata": {},
   "outputs": [
    {
     "name": "stdout",
     "output_type": "stream",
     "text": [
      "[1] \"Fold 1 Results:\"\n",
      "[1] \"Accuracy: 0.999212587906073\"\n",
      "[1] \"Precision: 0.876443418013857\"\n",
      "[1] \"Recall: 0.458887545344619\"\n",
      "[1] \"F1: 0.602380952380952\"\n",
      "[1] \"Fold 2 Results:\"\n",
      "[1] \"Accuracy: 0.999273097617882\"\n",
      "[1] \"Precision: 0.880093131548312\"\n",
      "[1] \"Recall: 0.479087452471483\"\n",
      "[1] \"F1: 0.620434961017645\"\n",
      "[1] \"Fold 3 Results:\"\n",
      "[1] \"Accuracy: 0.999258166650033\"\n",
      "[1] \"Precision: 0.889679715302491\"\n",
      "[1] \"Recall: 0.468457214241099\"\n",
      "[1] \"F1: 0.613747954173486\"\n",
      "[1] \"Fold 4 Results:\"\n",
      "[1] \"Accuracy: 0.999205515342355\"\n",
      "[1] \"Precision: 0.882147024504084\"\n",
      "[1] \"Recall: 0.453781512605042\"\n",
      "[1] \"F1: 0.599286563614744\"\n",
      "[1] \"Fold 5 Results:\"\n",
      "[1] \"Accuracy: 0.999209444544421\"\n",
      "[1] \"Precision: 0.900452488687783\"\n",
      "[1] \"Recall: 0.46441073512252\"\n",
      "[1] \"F1: 0.612779060816012\"\n"
     ]
    }
   ],
   "source": [
    "kf <- createFolds(X2$isFraud, k = 5)\n",
    "\n",
    "counter <- 1\n",
    "cv5 = lapply(kf, function(x) {\n",
    "  # Establishes the training and testing folds\n",
    "  training_fold = X2[-x,]\n",
    "  test_fold = X2[x,]\n",
    "  # Constructing model\n",
    "  model <- glm(isFraud ~. ,family = binomial, data=training_fold)\n",
    "  pred <- round(predict(model, newdata = test_fold, type = \"response\"),0)\n",
    "  \n",
    "  # Evaluating the Logistic Regression Model\n",
    "  accuracy = accuracy(test_fold$isFraud, pred)\n",
    "  precision = precision(test_fold$isFraud, pred)\n",
    "  recall = recall(test_fold$isFraud, pred)\n",
    "  f1 = (2*precision*recall)/(precision + recall)\n",
    "  print(paste(\"Fold\",counter,\"Results:\"))\n",
    "  print(paste(\"Accuracy:\",accuracy))\n",
    "  print(paste(\"Precision:\",precision))\n",
    "  print(paste(\"Recall:\",recall))\n",
    "  print(paste(\"F1:\",f1))\n",
    "  counter <<- counter + 1\n",
    "})"
   ]
  },
  {
   "cell_type": "markdown",
   "metadata": {},
   "source": [
    "### K = 15"
   ]
  },
  {
   "cell_type": "code",
   "execution_count": 41,
   "metadata": {},
   "outputs": [
    {
     "name": "stdout",
     "output_type": "stream",
     "text": [
      "[1] \"Fold 1 Results:\"\n",
      "[1] \"Accuracy: 0.999238521836506\"\n",
      "[1] \"Precision: 0.906474820143885\"\n",
      "[1] \"Recall: 0.459016393442623\"\n",
      "[1] \"F1: 0.609431680773882\"\n",
      "[1] \"Fold 2 Results:\"\n",
      "[1] \"Accuracy: 0.999165436825454\"\n",
      "[1] \"Precision: 0.867647058823529\"\n",
      "[1] \"Recall: 0.425992779783394\"\n",
      "[1] \"F1: 0.571428571428571\"\n",
      "[1] \"Fold 3 Results:\"\n",
      "[1] \"Accuracy: 0.999203157194925\"\n",
      "[1] \"Precision: 0.906574394463668\"\n",
      "[1] \"Recall: 0.457242582897033\"\n",
      "[1] \"F1: 0.607888631090487\"\n",
      "[1] \"Fold 4 Results:\"\n",
      "[1] \"Accuracy: 0.999257380226039\"\n",
      "[1] \"Precision: 0.904761904761905\"\n",
      "[1] \"Recall: 0.5\"\n",
      "[1] \"F1: 0.64406779661017\"\n",
      "[1] \"Fold 5 Results:\"\n",
      "[1] \"Accuracy: 0.999266810318407\"\n",
      "[1] \"Precision: 0.848375451263538\"\n",
      "[1] \"Recall: 0.466269841269841\"\n",
      "[1] \"F1: 0.60179257362356\"\n",
      "[1] \"Fold 6 Results:\"\n",
      "[1] \"Accuracy: 0.999141861594534\"\n",
      "[1] \"Precision: 0.872791519434629\"\n",
      "[1] \"Recall: 0.429565217391304\"\n",
      "[1] \"F1: 0.575757575757576\"\n",
      "[1] \"Fold 7 Results:\"\n",
      "[1] \"Accuracy: 0.999262095272223\"\n",
      "[1] \"Precision: 0.891608391608392\"\n",
      "[1] \"Recall: 0.474860335195531\"\n",
      "[1] \"F1: 0.619684082624544\"\n",
      "[1] \"Fold 8 Results:\"\n",
      "[1] \"Accuracy: 0.999214944810384\"\n",
      "[1] \"Precision: 0.867741935483871\"\n",
      "[1] \"Recall: 0.479500891265597\"\n",
      "[1] \"F1: 0.617680826636051\"\n",
      "[1] \"Fold 9 Results:\"\n",
      "[1] \"Accuracy: 0.999266810318407\"\n",
      "[1] \"Precision: 0.874193548387097\"\n",
      "[1] \"Recall: 0.499079189686924\"\n",
      "[1] \"F1: 0.635404454865182\"\n",
      "[1] \"Fold 10 Results:\"\n",
      "[1] \"Accuracy: 0.999231449283904\"\n",
      "[1] \"Precision: 0.89527027027027\"\n",
      "[1] \"Recall: 0.473214285714286\"\n",
      "[1] \"F1: 0.619158878504673\"\n",
      "[1] \"Fold 11 Results:\"\n",
      "[1] \"Accuracy: 0.999372900335946\"\n",
      "[1] \"Precision: 0.941176470588235\"\n",
      "[1] \"Recall: 0.505928853754941\"\n",
      "[1] \"F1: 0.658097686375321\"\n",
      "[1] \"Fold 12 Results:\"\n",
      "[1] \"Accuracy: 0.999200801555962\"\n",
      "[1] \"Precision: 0.880546075085324\"\n",
      "[1] \"Recall: 0.459074733096085\"\n",
      "[1] \"F1: 0.603508771929825\"\n",
      "[1] \"Fold 13 Results:\"\n",
      "[1] \"Accuracy: 0.999137148582543\"\n",
      "[1] \"Precision: 0.880701754385965\"\n",
      "[1] \"Recall: 0.430531732418525\"\n",
      "[1] \"F1: 0.578341013824885\"\n",
      "[1] \"Fold 14 Results:\"\n",
      "[1] \"Accuracy: 0.999304530687878\"\n",
      "[1] \"Precision: 0.869565217391304\"\n",
      "[1] \"Recall: 0.45643153526971\"\n",
      "[1] \"F1: 0.598639455782313\"\n",
      "[1] \"Fold 15 Results:\"\n",
      "[1] \"Accuracy: 0.999198442148741\"\n",
      "[1] \"Precision: 0.854304635761589\"\n",
      "[1] \"Recall: 0.465703971119134\"\n",
      "[1] \"F1: 0.602803738317757\"\n"
     ]
    }
   ],
   "source": [
    "kf <- createFolds(X2$isFraud, k = 15)\n",
    "counter <- 1\n",
    "cv15 = lapply(kf, function(x) {\n",
    "  # Establishes the training and testing folds\n",
    "  training_fold = X2[-x,]\n",
    "  test_fold = X2[x,]\n",
    "  # Constructing model\n",
    "  model <- glm(isFraud ~. ,family = binomial, data=training_fold)\n",
    "  pred <- round(predict(model, newdata = test_fold, type = \"response\"),0)\n",
    "  \n",
    "  # Evaluating the Logistic Regression Model\n",
    "  accuracy = accuracy(test_fold$isFraud, pred)\n",
    "  precision = precision(test_fold$isFraud, pred)\n",
    "  recall = recall(test_fold$isFraud, pred)\n",
    "  f1 = (2*precision*recall)/(precision + recall)\n",
    "  print(paste(\"Fold\",counter,\"Results:\"))\n",
    "  print(paste(\"Accuracy:\",accuracy))\n",
    "  print(paste(\"Precision:\",precision))\n",
    "  print(paste(\"Recall:\",recall))\n",
    "  print(paste(\"F1:\",f1))\n",
    "  counter <<- counter + 1\n",
    "})"
   ]
  }
 ],
 "metadata": {
  "kernelspec": {
   "display_name": "R",
   "language": "R",
   "name": "ir"
  },
  "language_info": {
   "codemirror_mode": "r",
   "file_extension": ".r",
   "mimetype": "text/x-r-source",
   "name": "R",
   "pygments_lexer": "r",
   "version": "3.5.1"
  }
 },
 "nbformat": 4,
 "nbformat_minor": 2
}
